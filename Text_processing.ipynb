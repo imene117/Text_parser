{
 "cells": [
  {
   "cell_type": "code",
   "execution_count": 1,
   "id": "46f81097",
   "metadata": {},
   "outputs": [],
   "source": [
    "%matplotlib inline\n",
    "import re\n",
    "import docx2txt\n",
    "import networkx as nx\n",
    "import matplotlib.pyplot as plt\n",
    "import textract\n",
    "#import node2vec\n",
    "\n",
    "\n",
    "\n",
    "import numpy\n",
    "#numpy.random.bit_generator = numpy.random._bit_generator\n",
    "import warnings\n",
    "from text_unidecode import unidecode\n",
    "from collections import deque\n",
    "warnings.filterwarnings('ignore')\n",
    "\n",
    "\n",
    "import pandas as pd\n",
    "from sklearn.manifold import TSNE\n",
    "import numpy as np\n",
    "import networkx as nx\n",
    "import matplotlib.patches as mpatches\n",
    "import seaborn as sns\n",
    "from node2vec import Node2Vec\n",
    "\n",
    "sns.set_style('whitegrid')\n",
    "\n",
    "from nltk import tokenize # !!!!!!!!!!! rajouter ou enlever le dernier e si besoin\n",
    "from operator import itemgetter\n",
    "import math\n",
    "\n",
    "import nltk\n",
    "from nltk.corpus import stopwords\n",
    "from nltk.tokenize import word_tokenize \n",
    "#nltk.download()\n",
    "\n",
    "\n",
    "from nltk.util import pad_sequence\n",
    "from nltk.util import bigrams\n",
    "from nltk.util import ngrams\n",
    "from nltk.util import everygrams\n",
    "from nltk.lm.preprocessing import pad_both_ends\n",
    "from nltk.lm.preprocessing import flatten\n",
    "\n",
    "\n",
    "\n",
    "\n",
    "# Importing libraries\n",
    "from sklearn.feature_extraction.text import CountVectorizer, TfidfVectorizer\n",
    "  \n",
    "%matplotlib inline\n",
    "import numpy\n",
    "#numpy.random.bit_generator = numpy.random._bit_generator\n",
    "import warnings\n",
    "from text_unidecode import unidecode\n",
    "from collections import deque\n",
    "warnings.filterwarnings('ignore')\n",
    "\n",
    "\n",
    "import pandas as pd\n",
    "from sklearn.manifold import TSNE\n",
    "import numpy as np\n",
    "import networkx as nx\n",
    "import matplotlib.pyplot as plt\n",
    "import matplotlib.patches as mpatches\n",
    "import seaborn as sns\n",
    "#import node2vec\n",
    "from node2vec import Node2Vec\n",
    "\n",
    "sns.set_style('whitegrid')\n",
    "\n"
   ]
  },
  {
   "cell_type": "code",
   "execution_count": 2,
   "id": "4ef23cac",
   "metadata": {},
   "outputs": [],
   "source": [
    "#Loading skills table from CSV into data frame\n",
    "data = pd.read_csv('///Users/hocine/Documents/Imene/github_code/cv_pars/skills.csv', usecols=['name', 'proglang', 'skills', 'cvi'])\n"
   ]
  },
  {
   "cell_type": "code",
   "execution_count": 3,
   "id": "63dd484a",
   "metadata": {},
   "outputs": [
    {
     "data": {
      "text/html": [
       "<div>\n",
       "<style scoped>\n",
       "    .dataframe tbody tr th:only-of-type {\n",
       "        vertical-align: middle;\n",
       "    }\n",
       "\n",
       "    .dataframe tbody tr th {\n",
       "        vertical-align: top;\n",
       "    }\n",
       "\n",
       "    .dataframe thead th {\n",
       "        text-align: right;\n",
       "    }\n",
       "</style>\n",
       "<table border=\"1\" class=\"dataframe\">\n",
       "  <thead>\n",
       "    <tr style=\"text-align: right;\">\n",
       "      <th></th>\n",
       "      <th>name</th>\n",
       "      <th>proglang</th>\n",
       "      <th>skills</th>\n",
       "      <th>cvi</th>\n",
       "    </tr>\n",
       "  </thead>\n",
       "  <tbody>\n",
       "    <tr>\n",
       "      <th>0</th>\n",
       "      <td>n1</td>\n",
       "      <td>java</td>\n",
       "      <td>statistic</td>\n",
       "      <td>cv2</td>\n",
       "    </tr>\n",
       "    <tr>\n",
       "      <th>1</th>\n",
       "      <td>n2</td>\n",
       "      <td>python</td>\n",
       "      <td>statistic</td>\n",
       "      <td>cv1</td>\n",
       "    </tr>\n",
       "    <tr>\n",
       "      <th>2</th>\n",
       "      <td>n3</td>\n",
       "      <td>excel</td>\n",
       "      <td>ro</td>\n",
       "      <td>cv2</td>\n",
       "    </tr>\n",
       "    <tr>\n",
       "      <th>3</th>\n",
       "      <td>n4</td>\n",
       "      <td>matlab</td>\n",
       "      <td>machine_learning</td>\n",
       "      <td>cv1</td>\n",
       "    </tr>\n",
       "    <tr>\n",
       "      <th>4</th>\n",
       "      <td>n5</td>\n",
       "      <td>c++</td>\n",
       "      <td>batata</td>\n",
       "      <td>cv1</td>\n",
       "    </tr>\n",
       "    <tr>\n",
       "      <th>5</th>\n",
       "      <td>n6</td>\n",
       "      <td>c_sharp</td>\n",
       "      <td>hbc</td>\n",
       "      <td>cv1</td>\n",
       "    </tr>\n",
       "  </tbody>\n",
       "</table>\n",
       "</div>"
      ],
      "text/plain": [
       "  name proglang            skills  cvi\n",
       "0   n1     java         statistic  cv2\n",
       "1   n2   python         statistic  cv1\n",
       "2   n3    excel                ro  cv2\n",
       "3   n4   matlab  machine_learning  cv1\n",
       "4   n5      c++            batata  cv1\n",
       "5   n6  c_sharp               hbc  cv1"
      ]
     },
     "execution_count": 3,
     "metadata": {},
     "output_type": "execute_result"
    }
   ],
   "source": [
    "#Processing the text in the data frame\n",
    "\n",
    "# Lowercase columns for convenience\n",
    "data.columns = list(map(str.lower, data.columns))\n",
    "\n",
    "# Reformat strings: lowercase, ' ' -> '_' and é, ô etc. -> e, o\n",
    "reformat_string = lambda x: unidecode(str.lower(x).replace(' ', '_'))\n",
    "    \n",
    "data['name'] = data['name'].apply(reformat_string)\n",
    "data['proglang'] = data['proglang'].apply(reformat_string)\n",
    "data['skills'] = data['skills'].apply(reformat_string)\n",
    "data['cvi'] = data['cvi'].apply(reformat_string)\n",
    "data"
   ]
  },
  {
   "cell_type": "code",
   "execution_count": 4,
   "id": "3fb8a8bf",
   "metadata": {},
   "outputs": [
    {
     "data": {
      "text/html": [
       "<div>\n",
       "<style scoped>\n",
       "    .dataframe tbody tr th:only-of-type {\n",
       "        vertical-align: middle;\n",
       "    }\n",
       "\n",
       "    .dataframe tbody tr th {\n",
       "        vertical-align: top;\n",
       "    }\n",
       "\n",
       "    .dataframe thead th {\n",
       "        text-align: right;\n",
       "    }\n",
       "</style>\n",
       "<table border=\"1\" class=\"dataframe\">\n",
       "  <thead>\n",
       "    <tr style=\"text-align: right;\">\n",
       "      <th></th>\n",
       "      <th>name</th>\n",
       "      <th>proglang</th>\n",
       "      <th>skills</th>\n",
       "      <th>cvi</th>\n",
       "    </tr>\n",
       "  </thead>\n",
       "  <tbody>\n",
       "    <tr>\n",
       "      <th>1</th>\n",
       "      <td>n2</td>\n",
       "      <td>python</td>\n",
       "      <td>statistic</td>\n",
       "      <td>cv1</td>\n",
       "    </tr>\n",
       "    <tr>\n",
       "      <th>3</th>\n",
       "      <td>n4</td>\n",
       "      <td>matlab</td>\n",
       "      <td>machine_learning</td>\n",
       "      <td>cv1</td>\n",
       "    </tr>\n",
       "    <tr>\n",
       "      <th>4</th>\n",
       "      <td>n5</td>\n",
       "      <td>c++</td>\n",
       "      <td>batata</td>\n",
       "      <td>cv1</td>\n",
       "    </tr>\n",
       "    <tr>\n",
       "      <th>5</th>\n",
       "      <td>n6</td>\n",
       "      <td>c_sharp</td>\n",
       "      <td>hbc</td>\n",
       "      <td>cv1</td>\n",
       "    </tr>\n",
       "  </tbody>\n",
       "</table>\n",
       "</div>"
      ],
      "text/plain": [
       "  name proglang            skills  cvi\n",
       "1   n2   python         statistic  cv1\n",
       "3   n4   matlab  machine_learning  cv1\n",
       "4   n5      c++            batata  cv1\n",
       "5   n6  c_sharp               hbc  cv1"
      ]
     },
     "execution_count": 4,
     "metadata": {},
     "output_type": "execute_result"
    }
   ],
   "source": [
    "# Extracting data (equivalent of pivot table)\n",
    "\n",
    "cv_1 = data[data['cvi'] == 'cv1']\n",
    "cv_2 = data[data['cvi'] == 'cv2']\n",
    "cv_1"
   ]
  },
  {
   "cell_type": "markdown",
   "id": "e452ae8c",
   "metadata": {},
   "source": [
    "\n",
    "- extract the text from a DOCX file\n",
    "- lower txt\n",
    "- remove no need characters from text (need to tokonized it when using the function)\n",
    "- removing stop words"
   ]
  },
  {
   "cell_type": "code",
   "execution_count": 5,
   "id": "59abb17b",
   "metadata": {},
   "outputs": [],
   "source": [
    "def extract_text_from_docx(docx_path):\n",
    "    txt = docx2txt.process(docx_path)\n",
    "    if txt:\n",
    "        return txt.replace('\\t', ' ')\n",
    "    return None"
   ]
  },
  {
   "cell_type": "code",
   "execution_count": 6,
   "id": "992bb6bf",
   "metadata": {},
   "outputs": [
    {
     "name": "stdout",
     "output_type": "stream",
     "text": [
      "**************1\n",
      "\n",
      "\n",
      "\n",
      "a machine learning engineer driven by problem-solving and with a proven academic record in the field of artificial intelligence. ",
      " ",
      "a competent programmer exposed to both dynamically (python) and statically typed (java) programming languages, with commercial experience in the development of big-data pipelines using open-source cluster computing frameworks (apache spark, flink, dataflow).  ",
      " ",
      "a certified apache spark and neo4j developer, google cloud engineer and aws ml engineer. ",
      " ",
      "a graph-analytics practitioner with hands-on experience in handling and statistically analysing large graphs and designing genetic algorithms applied on graphs (spark graphx, flink gelly).   ",
      " ",
      "my years of teaching in higher education and presenting in high-calibre conferences (both in academia as well as in the industry) enabled me to hone my presentation and communication skills, while my exposure to interdisciplinary work through my phd and my role as a consultant over the last 5 years allow me to quickly adjust to new environments and productively interact with people from different (scientific) backgrounds. ",
      " ",
      "when managing projects, i try to approach things from different angles and aim at building consensus around new ideas and filling gaps throughout the development lifecycle. applying software development best practices (agile, scrum, tdd) is life for me.\n",
      "\n",
      "\n",
      "\n",
      "part of the predictions & market modelling team, responsible for generating high-value forecasts that enrich our data products through implementing data processing and ml pipelines to predict the operations of the >10,000 tankers tracked by our system.  ",
      " ",
      "my focus is on:  ",
      "* designing, implementing and testing code that allows historically niche research to be elevated to the real-world scale;  ",
      "* working with data scientists, analysts, engineers and experts, to help bridge the gap between scientific experiments and commercial products by ensuring 100\\% uptime and bulletproof fault-tolerance of every component of the infrastructure;  ",
      "* work closely with team members to implement best practices in our key technologies.à\n",
      "\n",
      "\n",
      "\n",
      "working with members of the agent's and intelligent systems group on computational applications of logics. i am also collaborating closely with the bioinformatics and algorithm design group on the development of data mining techniques, with a focus on process mining and text classification.\n",
      "\n",
      "\n",
      "\n",
      "part of the advanced analytics team, responsible for driving the implementation of ci/cd pipelines to support best practices around the development of ml pipelines built within an internally developed platform based on apache kubeflow. ",
      " ",
      "[02/2020 - 07/2020] developed cloud-native data analytics competencies on gcp ",
      " ",
      "operating as a technical lead as part of a new team, responsible for delivering cloud native data analytics projects in the post-migration era for vodafone. involved in the requirements gathering process, gap analysis and impact assessment estimates. responsible for the delivery of big data related projects guided by business drives related to marketing, recommendations, automation and resource optimisation. ",
      " ",
      "[09/2019 - 02/2020] ml framework development & migration supervision ",
      " ",
      "working with a team of python developers, focusing on the migration of ml models, developed by an internal framework, to gcp. we are also managing the migration of all ci/cd pipelines, scheduling and orchestration jobs that employ this framework, from on-premise to cloud. the framework is based on pyspark and is mainly used for feature engineering and ml industrialisation. additional duties concern the development of a set of pipelines to build approved base-images (for dataproc and deep learning with tf) to be used by the data scientist. ",
      " ",
      "technologies: python, pyspark, jenkins, airflow, kubeflow, docker, kubernetes, gcp\n",
      "\n",
      "\n",
      "\n",
      "having begun as a data scientist in 2016, i gradually progressed within the company over the years and evolved into an ml-engineer. i became a bu lead, co-leading a practice of data scientists and data engineers on (big) data analysis/modeling and (big) data engineering projects; translating business problems into analytic frameworks; communicating and controlling the overall plan and timeline, and; mentoring and training less experienced team members as well as driving innovation within the practice.\n",
      "\n",
      "\n",
      "\n",
      "my responsibilities include: ",
      " ",
      "- translating business problems into analytic frameworks; ",
      "- defining an optimal approach to answering the question; ",
      "- communicating and controlling the overall plan and timeline; ",
      "- obtaining, exploring and cleaning large datasets; ",
      "- using advanced methods to develop the answer / solution iteratively, ",
      "- writing reusable code (e.g. applying machine learning or statistical analysis); ",
      "- mentoring less experienced team members and driving innovation within the practice.\n",
      "\n",
      "led an agile team of data scientists and data engineers. interacted directly with stakeholders to collect business requirements and translate them into data science/data engineering tasks. guided and participated in defining and completing relevant tasks. applied basic statistic analytics and developing time series prediction models that operate as alert triggers when relevant thresholds are excited. ",
      " ",
      "technologies: azure, databricks, powerbi, pyspark, python (scklearn, pandas)\n",
      "\n",
      "\n",
      "\n",
      "\n",
      "\n",
      "**************2\n",
      "\n",
      "\n",
      "\n",
      "\n",
      "\n",
      "a dynamic and innovative devops engineer certified as a kubernetes administrator in the field of cutting edge information technology. possess systems integration, development, configuration, troubleshooting, and implementation skills. also have the skills to effectively manage professional relationship with various key stakeholders and a unique ability to communicate technical details to deliver complex solutions for the client.\n",
      "\n",
      "\n",
      "\n",
      "\n",
      "\n",
      "• designed and built a multi master/worker ha kubernetes cluster based on vmware ubuntu virtual machines with keepalived + haproxy as a load-balancer to distribute traffic between master nodes for resiliency.  ",
      "• configured vsphere volumes for the multi master/worker ha kubernetes cluster as dynamic persistent volumes.  ",
      "• set up a kubernetes cluster with vault and consul and configured vault with ‘assumed_role’ policy so that vault can create iam users and attach policy documents to the newly generated user for access to aws s3 bucket.  ",
      "• created helm chart to package wordpress php application on a kubernetes cluster and set up envoy proxy sidecars to route internal php requests to an external mysql database (mariadb).\n",
      "\n",
      "\n",
      "\n",
      "• currently in the process of creating a single page football statistic web application as a personal project by using docker and docker-compose to demonstrating a full working devops process from development, testing and eventual deployment of the web application to aws elastic beanstalk. ",
      " ",
      "• implemented a full ci + cd workflow pipeline using github, travis ci, and aws elastic beanstalk that automatically deploys the code every time changes are pushed to github. ",
      " ",
      "• built a complex multi-container application using node, react, redis and postgres.\n",
      "\n",
      "• converting latency vbscripts to powershell/powercli scripts to assist automated installation and configuration for various naval ship projects. ",
      "• creating and editing automated installation powershell scripts to facilitate deployment, installation and configuration of virtual machines and dell hardware. ",
      " ",
      "• created powershell scripts to configure virtual machine settings for virtual graphics processor units, video memory, fault tolerance and affinity rules of the virtualized machines.\n",
      "\n",
      "• active directory: privileged user account and group policies set-up on a domain controller server. ",
      " ",
      "• dns tools: using dns manager to assign ip addresses of hardware servers and network switches to a dns host name for a more accessible communication from laptops to servers over a management network. ",
      " ",
      "vmware installation & configuration ",
      " ",
      "• esxi 6.5 installation through windows deployment service (wds) via pxe booting on a dell m630 blade. ",
      " ",
      "• involved in creating, deploying and cloning vmware virtual machines by manipulating and running installation scripts. ",
      " ",
      "• creating and configuring new virtual machines on the vmware esxi server by using vsphere client to access the vcentre server. ",
      " ",
      "• exporting and creating and ovf template for the existing virtual machines from the previous build cycle. ",
      " ",
      "• deploying the ovf template into the new build cycle and reassigning the virtual machines into its correct cluster hosts on vcentre. ",
      " ",
      "server installation & configuration ",
      " ",
      "• full shared infrastructure system build installation and configuration on multiple dell r430 rack servers and m630 blades servers by configuring their bios and idrac settings. ",
      " ",
      "• utilizing system log files during scripted installation to carry out analysis and fix problems that may occur during the process. ",
      " ",
      "storage installation & configuration ",
      " ",
      "• configuring the dell sc4020 compellent san storage hardware via a putty session to ensure the san storage can be contacted through the dell storage centre web gui and storage manager client on the management network. ",
      " ",
      "• configuring the storage virtual iscsi ports and iscsi cards for each san controller by assigning it a subnet mask and ip addresses.\n",
      "\n",
      "• adopted the volume creation configuration on the san controllers and setting up the volume size of the lun based on the calculated virtual machine storage utilization required.\n",
      "\n",
      "\n",
      "\n",
      "\n",
      "\n",
      "\n",
      "\n",
      "\n",
      "\n",
      "\n",
      "\n",
      "\n",
      "\n",
      "\n",
      "\n",
      "\n",
      "\n",
      "\n",
      "\n",
      "\n",
      "\n",
      "\n",
      "\n",
      "**************3\n",
      "\n",
      "i am an optimistic, enthusiastic, creative, and self-motivated individual who possesses remarkable technical, communication, and fast learning skills and a strong willingness to explore new knowledge, currently i am actively looking for opportunities in the [consulting] field. ",
      " ",
      "currently, i am pursuing my master’s degree in transport and business management at the imperial college london and prior to this, i have obtained my bachelor in industrial engineering degree from purdue university. ",
      " ",
      "apart from acquiring professional expertise from academic studies, my various occupational histories and extracurricular experiences have endowed me with strong leadership, teamwork, and multitasking skills. meanwhile, by completing lots of projects and processing data and writing reports, i have further strengthened my data research and analyzing skills while getting so familiar with r, mysql, and matlab.\n",
      "\n",
      "assisted a weight-loss drug company's business planning through market and business research and location analysis based on open nhs data  ",
      "researched the relevant policies and operating data from 2006 to 2017; investigated the current operation model, team, passengers, products and services of london railway; diagnosed the internal weaknesses to make more precise commercial forecast of 2018-2025\n",
      "\n",
      "collecting and processing data by excel to examine and approve the new apply for the duns code  ",
      "processing and analyzing business data to help senior business analyst produce around 2 comprehensive reports per week and offering advanced warning if necessary.\n",
      "\n",
      "counting and recycling missing parts report from the plant area ",
      "disposing of these reports and classifying the missed parts and assigning procurement task to according purchasing offices ",
      "summarizing the purchase records, marking time & reasons for the stock-out, coordinating well in department\n",
      "\n",
      "put forward a solution for the efficiency problem of the newly introduced components of the caterpillar production line ",
      " ",
      "assemble: mainly through the video recording form of time and action research and analysis, through the updated standard work flow to complete the assembly process, and determine the most time consuming steps, implement ergonomics analysis, improve the design of work area, tools and equipment. ",
      " ",
      "transport: in order to transport doc and engine, the factory now uses two cranes. we will analyze its utilization rate to eliminate any waiting time, so as to reduce production delays.\n",
      "\n",
      "\n",
      "\n",
      "\n",
      "\n",
      " ",
      "\n",
      "\n",
      "**************4\n",
      "\n",
      "fintech enthusiast, from cryptocurrencies to mobile banking. experienced in analysing data from blockchains.\n",
      "\n",
      "chainalysis builds trust in blockchains between people, businesses, and governments. our blockchain intelligence platform powers our compliance and investigation software for the world’s top institutions. with offices in ny, d.c., and copenhagen, chainalysis is global and backed by benchmark and other leading names in venture capital.\n",
      "\n",
      "• absorbed team members and responsibilities of two other data engineering teams, and split out one sub team as a separate function ",
      "• budgets and planning for team, w/ cost projections and head count projections (2019h2 and 2020) ",
      "• managed twelve direct reports, and mentored other data science colleagues (and former direct reports) ",
      "• delivered new blockchain products (xrp, zec, dash, erc20s), including data acquisition, and data labelling ",
      "• continually improved data labelling systems for existing blockchains (btc, ltc, bch, eth)\n",
      "\n",
      "• led product launches focussed on supporting more blockchains, and internal launches to backport features to new systems to deprecate legacy systems ",
      "• created and scaled the team dedicated to blockchain data acquisition and analysis (from three to eight) ",
      "• managed seven direct reports, including day to day coordination and long term career pathing\n",
      "\n",
      "• led data science initiatives enhancing existing data, and capturing new blockchain data ",
      "• analysed hundreds of new services present on the ethereum blockchain ",
      "• devised fundamental clustering heuristics resulting in the clustering of millions of ethereum accounts ",
      "• managed timelines and projects related to the data science summer intern 2018 program\n",
      "\n",
      "• researched, gathered, and analyzed data on cybercrime on ethereum  ",
      "• built data extraction and intake systems to analyse ether movements on the ethereum blockchain ",
      "• visualised bitcoin transaction data to analyse blockchain properties to enhance clustering\n",
      "\n",
      "\n",
      "\n",
      "\n",
      "\n",
      "\n",
      "\n",
      "\n",
      "\n",
      "\n",
      "\n",
      "**************5\n",
      "\n",
      "i am a highly passionate, ambitious and analytical developer with experience in an array of programming languages and technologies. possessing a keen enthusiasm for agile approaches, i am always striving to improve development processes and broaden my knowledge on innovative techniques to achieve this.\n",
      "\n",
      "technologies: bash, clojure, css, emacs, fitnesse, git, hibernate, html, intellij, java, javascript, jira, jmock, json, maven, mockito, oracle, ognl, rich, sql developer, squirrel, svn, teamcity, tdd, toad ",
      " ",
      "• enrolled on the graduate programme after accepting an offer during my industrial placement ",
      "• primary role was a developer for a large middle office life cycle system in equity derivatives ",
      "• part of a large global development team that stretched over 7 cities worldwide ",
      "• team involved in agile methodologies that enabled collaboration and coordination. for example, i conducted our team retrospectives to allow the team to share experiences and give feedback ",
      "• predominantly all development done in java with a sample of projects in clojure ",
      "• worked with a variety of testing frameworks to ensure code integrity: mockito and jmock in unit testing and fit and rich framework for acceptance level and regression testing. for continuous integration we used teamcity ",
      "• experience in bash scripting to automate and simplify day-to-day tasks for the team and help automate development and release steps ",
      "• exposure to derivatives and experience in the front to back model of equity products from trade capture, life cycle management, risk management to settlements and confirmations ",
      "• sprint lead managing a team of developers delivering a number of successful projects to the business\n",
      "\n",
      "technologies: ajax, css, html, intellij, java, javascript, oracle developer, spring, sql ",
      " ",
      "• developed a suite of applications for internal use by the finance it department including an interactive data dictionary viewer ",
      "• involved in the early stages of a data statistic tool to measure data growth ",
      "• gained first-hand knowledge in the workings of an investment bank and the role of finance within such a large organisation\n",
      "\n",
      "technologies: css, eclipse, html, java, javascript, jsp, sql ",
      " ",
      "• member of a five-person team tasked to develop a parcel delivery management system to allow metapack to enter the small company delivery market ",
      "• primary duty in the project was responsibility over the front-end design and integration with ebay to target small business sellers\n",
      "\n",
      "• first base it is a successful it company, which builds, bespoke software solutions for a diverse range of industries ",
      "• duties included application testing, it network auditing and pc engineering ",
      "• involved in designing website prototypes for clients ",
      "• part of my role also involved me going off site to client bases, and performing system health checks and updating software\n",
      "\n",
      "dissertation (1st class): mechanisms to capture and convey user privacy from social networking sites on smart phones ",
      "deutsche bank award for \"knowledge representation\" \n",
      "\n",
      "\n",
      "\n",
      "\n",
      "\n",
      "\n",
      "\n",
      "\n",
      "\n",
      "\n",
      "\n",
      "\n",
      "\n",
      "**************6\n",
      "\n",
      "it support specialist with over 5 years of experience thorough and skillful support to senior executives.strong troubleshooting skills,ability to understand and explain problems to users. ",
      " ",
      "administer ms office and support its core applications ",
      " ",
      "administer windows servers (i.e free-up disk space,check if services are operational to keeping the infrastructure running,etc.) ",
      " ",
      " administer active directory services(create new users,support leaver process,password resets and other daily tasks,as and when required) ",
      " ",
      "administer office 365 environment(configure mailboxes,distribution groups,calendar permissions and other daily administrative tasks as and when required). ",
      " ",
      "pc operating systems windows 7 pro,windows  8 pro and windows 10 pro,linux(terminal),experience with back-up software systems and some experience with apple mac os   ",
      " ",
      " ",
      "experience in network troubleshooting and problem isolation in wired and wireless networks.excellent working knowledge of tcp/ip protocol and services,including protocol analysis.  ",
      " ",
      "install configure and deploy computer system hardware and software including but not limited to ",
      "operating system and application software. ",
      "web design ",
      " ",
      "capable of building a wordpress and joomla sites from start to finish (knowledge and ability to configure plugins etc.) ",
      " ",
      "working knowledge of html,photoshop,css, php5,mysql,jscript and jquery\n",
      "\n",
      "\n",
      "\n",
      "**************7\n",
      "\n",
      " have msc degree in communication engineering, with good professional performance and strong practical ability, is committed to the development of the telecommunications industry, and have internship experience in two telecommunications companies. ",
      " ",
      "on the basis of mastering this professional course, i have learned python, machine learning and other related knowledge, and combined the knowledge of popular industries with traditional co ",
      "mmunication to make myself a professional talent.\n",
      "\n",
      "learn about software testing, test and analyze the performance of mobile phones at the same time, compare the power consumption of the product with competing products.\n",
      "\n",
      "my main job duties were participating in basic training such as network, linux, cloud computing and virtualization, and configuring the revelant communication network to complete the development of cee (ericsson version of openstack).\n",
      "\n",
      "\n",
      "\n",
      "\n",
      "\n",
      "\n",
      "\n",
      "**************8\n",
      "\n",
      "android engineer ble at looking for a new exciting job opportunity\n",
      "\n",
      "communication sport band by bluetooth two protocol ",
      "ble huawei lpv2 and ble letsfit - id130 ",
      "kotlin, ux/ui, coroutine, aidl, ble, mpchartlib, cryptogrphy ",
      "https://play.google.com/store/apps/details?id=pro.nap\n",
      "\n",
      "creation android app. https://play.google.com/store/apps/details?id=zibi.grocery ",
      "kotlin, room, livedata, ux/ui, mvvm, jsoup, selenium webdriver\n",
      "\n",
      "java, kotlin, ux/ui, mvp, mvvm\n",
      "\n",
      "\n",
      "\n",
      "**************9\n",
      "\n",
      "\n",
      "\n",
      "i am a proactive academic with a wide range of research interest in electrical and electronics engineering such as optical methods and sensor development for particle technology applications. ",
      "as an experienced tutor, i taught in a wide range of subjects including materials for electrical and electronics engineering, control engineering, mathematics, statistics, computer programming (c and c++ languages) and computer hardware systems. ",
      "able to provide successful supervision and support to undergraduate and postgraduate students. ",
      "strong interest in linking my research finding into teaching activities. highly developed communication skills with creative problem-solving experience.\n",
      "\n",
      "i conducted mathematics and statistic supporting drop-in sessions for students and staff to solve their mathematics and statistics related problem. students from foundation year to phd level with deafferent academic backgrounds and also post-doctoral researchers from various research backgrounds attended for drop-in sessions seeking support and advice.\n",
      "\n",
      "materials for electrical engineering (level 5): i taught 40 students (approx.) per year in basic operation and application of materials such as semiconductors and capacitors which are commonly used in electrical engineering.\n",
      "\n",
      "\n",
      "\n",
      "programming for engineers (level 5): i taught 50 students (approx.) about the uses of programming (such as c and c++) in engineering and the types of hardware interfaces available\n",
      "\n",
      "computer hardware systems and design (level 5): i taught 40 students (approx.) in tutorials and laboratory classes in programming field programmable gate arrays.\n",
      "\n",
      "i conducted control engineering lab sessions for first- and second-year undergraduate students\n",
      "\n",
      "i was working as a researcher along with a phd studentship.\n",
      "\n",
      "this was a work placement. during this work placement, i have implemented a methodology to use the afm (atomic force microscope) to characterise particle surfaces, which measures the topography of a surface using atomic forces.\n",
      "\n",
      "\n",
      "\n",
      "characterisation of particles strength using the impact tester developed at the wolfson centre for the company valmet sa sweden.\n"
     ]
    }
   ],
   "source": [
    "doc=extract_text_from_docx('///Users/hocine/Documents/Imene/github_code/cv_pars/9lkresm.docx')\n",
    "doc=doc.lower()\n",
    "print(doc)\n"
   ]
  },
  {
   "cell_type": "code",
   "execution_count": 7,
   "id": "fa0080b5",
   "metadata": {},
   "outputs": [],
   "source": [
    "#remove no need characters from text (need to tekonized it when using the function)\n",
    "def extract_char(doc):\n",
    "    relevantWords = []\n",
    "    #remov_char={'\\'e0\\','\\'a0','\\u8232','\\partightenfactor0','\\pardirnatural','\\pardeftab720','\\pard','\\fs24','\\cf0','\\f0','\\fs21','required','work','experience','project','+','1','2','3','4','5','6','7','8','9','*','\\'s','02/2020','•',',','&','$','<','>','%','(',')',';','e.g.','-',':'}\n",
    "    remov_char={'required','work','experience','project','+','1','2','3','4','5','6','7','8','9','*','\\'s','02/2020','•',',','&','$','<','>','%','(',')',';','e.g.','-',':'}\n",
    "    for word in doc:\n",
    "        if word not in remov_char:\n",
    "            relevantWords.append(word)\n",
    "    return relevantWords\n",
    "\n",
    "#removing stop words\n",
    "def remv_stp(example_sent):\n",
    "    relevantWords = []\n",
    "    stop_words = set(stopwords.words('english'))\n",
    "    for word in example_sent:\n",
    "        if word not in stop_words:\n",
    "            relevantWords.append(word)\n",
    "    return relevantWords"
   ]
  },
  {
   "cell_type": "code",
   "execution_count": 8,
   "id": "53b1dd5a",
   "metadata": {},
   "outputs": [],
   "source": [
    "test=word_tokenize(doc)\n",
    "new_doc=extract_char(test)\n",
    "\n",
    "n2_doc=remv_stp(new_doc)\n",
    "\n",
    "corpus=' '.join(n2_doc)"
   ]
  },
  {
   "cell_type": "code",
   "execution_count": 9,
   "id": "4d634cb8",
   "metadata": {},
   "outputs": [
    {
     "data": {
      "text/plain": [
       "\"machine learning engineer driven problem-solving proven academic record field artificial intelligence . competent programmer exposed dynamically python statically typed java programming languages commercial development big-data pipelines using open-source cluster computing frameworks apache spark flink dataflow . certified apache spark neo4j developer google cloud engineer aws ml engineer . graph-analytics practitioner hands-on handling statistically analysing large graphs designing genetic algorithms applied graphs spark graphx flink gelly . years teaching higher education presenting high-calibre conferences academia well industry enabled hone presentation communication skills exposure interdisciplinary phd role consultant last years allow quickly adjust new environments productively interact people different scientific backgrounds . managing projects try approach things different angles aim building consensus around new ideas filling gaps throughout development lifecycle . applying software development best practices agile scrum tdd life . part predictions market modelling team responsible generating high-value forecasts enrich data products implementing data processing ml pipelines predict operations 10,000 tankers tracked system . focus designing implementing testing code allows historically niche research elevated real-world scale working data scientists analysts engineers experts help bridge gap scientific experiments commercial products ensuring 100\\\\ uptime bulletproof fault-tolerance every component infrastructure closely team members implement best practices key technologies.à working members agent intelligent systems group computational applications logics . also collaborating closely bioinformatics algorithm design group development data mining techniques focus process mining text classification . part advanced analytics team responsible driving implementation ci/cd pipelines support best practices around development ml pipelines built within internally developed platform based apache kubeflow . [ 07/2020 ] developed cloud-native data analytics competencies gcp operating technical lead part new team responsible delivering cloud native data analytics projects post-migration era vodafone . involved requirements gathering process gap analysis impact assessment estimates . responsible delivery big data related projects guided business drives related marketing recommendations automation resource optimisation . [ 09/2019 ] ml framework development migration supervision working team python developers focusing migration ml models developed internal framework gcp . also managing migration ci/cd pipelines scheduling orchestration jobs employ framework on-premise cloud . framework based pyspark mainly used feature engineering ml industrialisation . additional duties concern development set pipelines build approved base-images dataproc deep learning tf used data scientist . technologies python pyspark jenkins airflow kubeflow docker kubernetes gcp begun data scientist 2016 gradually progressed within company years evolved ml-engineer . became bu lead co-leading practice data scientists data engineers big data analysis/modeling big data engineering projects translating business problems analytic frameworks communicating controlling overall plan timeline mentoring training less experienced team members well driving innovation within practice . responsibilities include translating business problems analytic frameworks defining optimal approach answering question communicating controlling overall plan timeline obtaining exploring cleaning large datasets using advanced methods develop answer / solution iteratively writing reusable code e.g . applying machine learning statistical analysis mentoring less experienced team members driving innovation within practice . led agile team data scientists data engineers . interacted directly stakeholders collect business requirements translate data science/data engineering tasks . guided participated defining completing relevant tasks . applied basic statistic analytics developing time series prediction models operate alert triggers relevant thresholds excited . technologies azure databricks powerbi pyspark python scklearn pandas dynamic innovative devops engineer certified kubernetes administrator field cutting edge information technology . possess systems integration development configuration troubleshooting implementation skills . also skills effectively manage professional relationship various key stakeholders unique ability communicate technical details deliver complex solutions client . designed built multi master/worker ha kubernetes cluster based vmware ubuntu virtual machines keepalived haproxy load-balancer distribute traffic master nodes resiliency . configured vsphere volumes multi master/worker ha kubernetes cluster dynamic persistent volumes . set kubernetes cluster vault consul configured vault ‘ assumed_role ’ policy vault create iam users attach policy documents newly generated user access aws s3 bucket . created helm chart package wordpress php application kubernetes cluster set envoy proxy sidecars route internal php requests external mysql database mariadb . currently process creating single page football statistic web application personal using docker docker-compose demonstrating full working devops process development testing eventual deployment web application aws elastic beanstalk . implemented full ci cd workflow pipeline using github travis ci aws elastic beanstalk automatically deploys code every time changes pushed github . built complex multi-container application using node react redis postgres . converting latency vbscripts powershell/powercli scripts assist automated installation configuration various naval ship projects . creating editing automated installation powershell scripts facilitate deployment installation configuration virtual machines dell hardware . created powershell scripts configure virtual machine settings virtual graphics processor units video memory fault tolerance affinity rules virtualized machines . active directory privileged user account group policies set-up domain controller server . dns tools using dns manager assign ip addresses hardware servers network switches dns host name accessible communication laptops servers management network . vmware installation configuration esxi 6.5 installation windows deployment service wds via pxe booting dell m630 blade . involved creating deploying cloning vmware virtual machines manipulating running installation scripts . creating configuring new virtual machines vmware esxi server using vsphere client access vcentre server . exporting creating ovf template existing virtual machines previous build cycle . deploying ovf template new build cycle reassigning virtual machines correct cluster hosts vcentre . server installation configuration full shared infrastructure system build installation configuration multiple dell r430 rack servers m630 blades servers configuring bios idrac settings . utilizing system log files scripted installation carry analysis fix problems may occur process . storage installation configuration configuring dell sc4020 compellent san storage hardware via putty session ensure san storage contacted dell storage centre web gui storage manager client management network . configuring storage virtual iscsi ports iscsi cards san controller assigning subnet mask ip addresses . adopted volume creation configuration san controllers setting volume size lun based calculated virtual machine storage utilization . optimistic enthusiastic creative self-motivated individual possesses remarkable technical communication fast learning skills strong willingness explore new knowledge currently actively looking opportunities [ consulting ] field . currently pursuing master ’ degree transport business management imperial college london prior obtained bachelor industrial engineering degree purdue university . apart acquiring professional expertise academic studies various occupational histories extracurricular experiences endowed strong leadership teamwork multitasking skills . meanwhile completing lots projects processing data writing reports strengthened data research analyzing skills getting familiar r mysql matlab . assisted weight-loss drug company business planning market business research location analysis based open nhs data researched relevant policies operating data 2006 2017 investigated current operation model team passengers products services london railway diagnosed internal weaknesses make precise commercial forecast 2018-2025 collecting processing data excel examine approve new apply duns code processing analyzing business data help senior business analyst produce around comprehensive reports per week offering advanced warning necessary . counting recycling missing parts report plant area disposing reports classifying missed parts assigning procurement task according purchasing offices summarizing purchase records marking time reasons stock-out coordinating well department put forward solution efficiency problem newly introduced components caterpillar production line assemble mainly video recording form time action research analysis updated standard flow complete assembly process determine time consuming steps implement ergonomics analysis improve design area tools equipment . transport order transport doc engine factory uses two cranes . analyze utilization rate eliminate waiting time reduce production delays . fintech enthusiast cryptocurrencies mobile banking . experienced analysing data blockchains . chainalysis builds trust blockchains people businesses governments . blockchain intelligence platform powers compliance investigation software world ’ top institutions . offices ny d.c. copenhagen chainalysis global backed benchmark leading names venture capital . absorbed team members responsibilities two data engineering teams split one sub team separate function budgets planning team w/ cost projections head count projections 2019h2 2020 managed twelve direct reports mentored data science colleagues former direct reports delivered new blockchain products xrp zec dash erc20s including data acquisition data labelling continually improved data labelling systems existing blockchains btc ltc bch eth led product launches focussed supporting blockchains internal launches backport features new systems deprecate legacy systems created scaled team dedicated blockchain data acquisition analysis three eight managed seven direct reports including day day coordination long term career pathing led data science initiatives enhancing existing data capturing new blockchain data analysed hundreds new services present ethereum blockchain devised fundamental clustering heuristics resulting clustering millions ethereum accounts managed timelines projects related data science summer intern 2018 program researched gathered analyzed data cybercrime ethereum built data extraction intake systems analyse ether movements ethereum blockchain visualised bitcoin transaction data analyse blockchain properties enhance clustering highly passionate ambitious analytical developer array programming languages technologies . possessing keen enthusiasm agile approaches always striving improve development processes broaden knowledge innovative techniques achieve . technologies bash clojure css emacs fitnesse git hibernate html intellij java javascript jira jmock json maven mockito oracle ognl rich sql developer squirrel svn teamcity tdd toad enrolled graduate programme accepting offer industrial placement primary role developer large middle office life cycle system equity derivatives part large global development team stretched cities worldwide team involved agile methodologies enabled collaboration coordination . example conducted team retrospectives allow team share experiences give feedback predominantly development done java sample projects clojure worked variety testing frameworks ensure code integrity mockito jmock unit testing fit rich framework acceptance level regression testing . continuous integration used teamcity bash scripting automate simplify day-to-day tasks team help automate development release steps exposure derivatives front back model equity products trade capture life cycle management risk management settlements confirmations sprint lead managing team developers delivering number successful projects business technologies ajax css html intellij java javascript oracle developer spring sql developed suite applications internal use finance department including interactive data dictionary viewer involved early stages data statistic tool measure data growth gained first-hand knowledge workings investment bank role finance within large organisation technologies css eclipse html java javascript jsp sql member five-person team tasked develop parcel delivery management system allow metapack enter small company delivery market primary duty responsibility front-end design integration ebay target small business sellers first base successful company builds bespoke software solutions diverse range industries duties included application testing network auditing pc engineering involved designing website prototypes clients part role also involved going site client bases performing system health checks updating software dissertation 1st class mechanisms capture convey user privacy social networking sites smart phones deutsche bank award `` knowledge representation '' support specialist years thorough skillful support senior executives.strong troubleshooting skills ability understand explain problems users . administer ms office support core applications administer windows servers i.e free-up disk space check services operational keeping infrastructure running etc . administer active directory services create new users support leaver process password resets daily tasks administer office 365 environment configure mailboxes distribution groups calendar permissions daily administrative tasks . pc operating systems windows pro windows pro windows 10 pro linux terminal back-up software systems apple mac os network troubleshooting problem isolation wired wireless networks.excellent working knowledge tcp/ip protocol services including protocol analysis . install configure deploy computer system hardware software including limited operating system application software . web design capable building wordpress joomla sites start finish knowledge ability configure plugins etc . working knowledge html photoshop css php5 mysql jscript jquery msc degree communication engineering good professional performance strong practical ability committed development telecommunications industry internship two telecommunications companies . basis mastering professional course learned python machine learning related knowledge combined knowledge popular industries traditional co mmunication make professional talent . learn software testing test analyze performance mobile phones time compare power consumption product competing products . main job duties participating basic training network linux cloud computing virtualization configuring revelant communication network complete development cee ericsson version openstack . android engineer ble looking new exciting job opportunity communication sport band bluetooth two protocol ble huawei lpv2 ble letsfit id130 kotlin ux/ui coroutine aidl ble mpchartlib cryptogrphy https //play.google.com/store/apps/details ? id=pro.nap creation android app . https //play.google.com/store/apps/details ? id=zibi.grocery kotlin room livedata ux/ui mvvm jsoup selenium webdriver java kotlin ux/ui mvp mvvm proactive academic wide range research interest electrical electronics engineering optical methods sensor development particle technology applications . experienced tutor taught wide range subjects including materials electrical electronics engineering control engineering mathematics statistics computer programming c c++ languages computer hardware systems . able provide successful supervision support undergraduate postgraduate students . strong interest linking research finding teaching activities . highly developed communication skills creative problem-solving . conducted mathematics statistic supporting drop-in sessions students staff solve mathematics statistics related problem . students foundation year phd level deafferent academic backgrounds also post-doctoral researchers various research backgrounds attended drop-in sessions seeking support advice . materials electrical engineering level taught 40 students approx . per year basic operation application materials semiconductors capacitors commonly used electrical engineering . programming engineers level taught 50 students approx . uses programming c c++ engineering types hardware interfaces available computer hardware systems design level taught 40 students approx . tutorials laboratory classes programming field programmable gate arrays . conducted control engineering lab sessions first- second-year undergraduate students working researcher along phd studentship . placement . placement implemented methodology use afm atomic force microscope characterise particle surfaces measures topography surface using atomic forces . characterisation particles strength using impact tester developed wolfson centre company valmet sa sweden .\""
      ]
     },
     "execution_count": 9,
     "metadata": {},
     "output_type": "execute_result"
    }
   ],
   "source": [
    "corpus"
   ]
  },
  {
   "cell_type": "code",
   "execution_count": 10,
   "id": "6e639107",
   "metadata": {},
   "outputs": [],
   "source": [
    "##########second version (help to remove characters that can not be removed with python exp:\\xe0,\\u2018 )"
   ]
  },
  {
   "cell_type": "code",
   "execution_count": 11,
   "id": "c6fa84ec",
   "metadata": {},
   "outputs": [],
   "source": [
    "textfile = open('textfile3.txt', 'w') # will creat automatically a text file named 'textfile3' \n",
    "textfile.write(\n",
    "    corpus.replace('\\xe0','').replace('\\u2018','').replace('\\u2019','')\n",
    "              )\n",
    "textfile.close()"
   ]
  },
  {
   "cell_type": "code",
   "execution_count": 13,
   "id": "98d6af80",
   "metadata": {},
   "outputs": [],
   "source": [
    "txt1 = []\n",
    "with open('///Users/hocine/Documents/Imene/github_code/cv_pars/textfile3.txt') as file:\n",
    "    txt1 = file.readlines()"
   ]
  },
  {
   "cell_type": "code",
   "execution_count": 14,
   "id": "88ec9351",
   "metadata": {},
   "outputs": [],
   "source": [
    "####################################################################################################\n",
    "################################################################################\n",
    "###################  If necessary use this to remove special char ##########\n",
    "##############################################################################################################\n",
    "################################################################################"
   ]
  },
  {
   "cell_type": "code",
   "execution_count": 15,
   "id": "6b436200",
   "metadata": {},
   "outputs": [],
   "source": [
    "def remove_string_special_characters(s):\n",
    "      \n",
    "    # removes special characters with ' '\n",
    "    stripped = re.sub('[^a-zA-z\\s]', '', s)\n",
    "    stripped = re.sub('_', '', stripped)\n",
    "      \n",
    "    # Change any white space to one space\n",
    "    stripped = re.sub('\\s+', ' ', stripped)\n",
    "      \n",
    "    # Remove start and end white spaces\n",
    "    stripped = stripped.strip()\n",
    "    if stripped != '':\n",
    "            return stripped.lower()"
   ]
  },
  {
   "cell_type": "code",
   "execution_count": 16,
   "id": "5e6e8ad4",
   "metadata": {},
   "outputs": [],
   "source": [
    "# Stopword removal \n",
    "stop_words = set(stopwords.words('english'))\n",
    "#your_list = ['skills', 'ability', 'job', 'description']\n",
    "your_list = ['2019h2 2020','[ 07/2020 ]','\\'a0','\\u8232','\\fs24','\\cf0','\\f0','\\fs21','required','work','experience','project','+','1','2','3','4','5','6','7','8','9','*','\\'s','02/2020','•',',','&','$','<','>','%','(',')',';','e.g.','-',':']\n",
    "for i, line in enumerate(txt1):\n",
    "    txt1[i] = ' '.join([x for \n",
    "        x in nltk.word_tokenize(line) if \n",
    "        ( x not in stop_words ) and ( x not in your_list )])"
   ]
  },
  {
   "cell_type": "code",
   "execution_count": null,
   "id": "ce469e7c",
   "metadata": {},
   "outputs": [],
   "source": [
    "####################################################################################################\n",
    "################################################################################\n",
    "#################################################################################################################################\n",
    "##############################################################################################################\n",
    "################################################################################"
   ]
  },
  {
   "cell_type": "code",
   "execution_count": null,
   "id": "49134b10",
   "metadata": {},
   "outputs": [],
   "source": []
  },
  {
   "cell_type": "markdown",
   "id": "f2c0675e",
   "metadata": {},
   "source": [
    "# Analysing text: Look for Bigram, Trigram ...\n",
    "# Applying TFIDF\n",
    "# Getting top ranking features"
   ]
  },
  {
   "cell_type": "code",
   "execution_count": 17,
   "id": "a782cf07",
   "metadata": {},
   "outputs": [
    {
     "name": "stdout",
     "output_type": "stream",
     "text": [
      "\n",
      "\n",
      "Features : \n",
      " ['000 tankers tracked system', '07 2020 developed cloud', '09 2019 ml framework', '10 000 tankers tracked', '10 pro linux terminal', '100 uptime bulletproof fault', '1st class mechanisms capture', '2006 2017 investigated current', '2016 gradually progressed within', '2017 investigated current operation', '2018 2025 collecting processing', '2018 program researched gathered', '2019 ml framework development', '2019h2 2020 managed twelve', '2020 developed cloud native', '2020 managed twelve direct', '2025 collecting processing data', '365 environment configure mailboxes', '40 students approx per', '40 students approx tutorials', '50 students approx uses', 'ability committed development telecommunications', 'ability communicate technical details', 'ability configure plugins etc', 'ability understand explain problems', 'able provide successful supervision', 'absorbed team members responsibilities', 'academia well industry enabled', 'academic backgrounds also post', 'academic record field artificial', 'academic studies various occupational', 'academic wide range research', 'acceptance level regression testing', 'accepting offer industrial placement', 'access aws s3 bucket', 'access vcentre server exporting', 'accessible communication laptops servers', 'according purchasing offices summarizing', 'account group policies set', 'accounts managed timelines projects', 'achieve technologies bash clojure', 'acquiring professional expertise academic', 'acquisition analysis three eight', 'acquisition data labelling continually', 'action research analysis updated', 'active directory privileged user', 'active directory services create', 'actively looking opportunities consulting', 'activities highly developed communication', 'additional duties concern development', 'addresses adopted volume creation', 'addresses hardware servers network', 'adjust new environments productively', 'administer active directory services', 'administer ms office support', 'administer office 365 environment', 'administer windows servers free', 'administrative tasks pc operating', 'administrator field cutting edge', 'adopted volume creation configuration', 'advanced analytics team responsible', 'advanced methods develop answer', 'advanced warning necessary counting', 'advice materials electrical engineering', 'affinity rules virtualized machines', 'afm atomic force microscope', 'agent intelligent systems group', 'agile approaches always striving', 'agile methodologies enabled collaboration', 'agile scrum tdd life', 'agile team data scientists', 'aidl ble mpchartlib cryptogrphy', 'aim building consensus around', 'airflow kubeflow docker kubernetes', 'ajax css html intellij', 'alert triggers relevant thresholds', 'algorithm design group development', 'algorithms applied graphs spark', 'allow metapack enter small', 'allow quickly adjust new', 'allow team share experiences', 'allows historically niche research', 'along phd studentship placement', 'also collaborating closely bioinformatics', 'also involved going site', 'also managing migration ci', 'also post doctoral researchers', 'also skills effectively manage', 'always striving improve development', 'ambitious analytical developer array', 'analyse blockchain properties enhance', 'analyse ether movements ethereum', 'analysed hundreds new services', 'analysing data blockchains chainalysis', 'analysing large graphs designing', 'analysis based open nhs', 'analysis fix problems may', 'analysis impact assessment estimates', 'analysis improve design area', 'analysis install configure deploy', 'analysis mentoring less experienced', 'analysis modeling big data', 'analysis three eight managed', 'analysis updated standard flow', 'analyst produce around comprehensive', 'analysts engineers experts help', 'analytic frameworks communicating controlling', 'analytic frameworks defining optimal', 'analytical developer array programming', 'analytics competencies gcp operating', 'analytics developing time series', 'analytics practitioner hands on', 'analytics projects post migration', 'analytics team responsible driving', 'analyze performance mobile phones', 'analyze utilization rate eliminate', 'analyzed data cybercrime ethereum', 'analyzing business data help', 'analyzing skills getting familiar', 'android app https play', 'android engineer ble looking', 'angles aim building consensus', 'answer solution iteratively writing', 'answering question communicating controlling', 'apache kubeflow 07 2020', 'apache spark flink dataflow', 'apache spark neo4j developer', 'apart acquiring professional expertise', 'app https play google', 'apple mac os network', 'application aws elastic beanstalk', 'application kubernetes cluster set', 'application materials semiconductors capacitors', 'application personal using docker', 'application software web design', 'application testing network auditing', 'application using node react', 'applications administer windows servers', 'applications experienced tutor taught', 'applications internal use finance', 'applications logics also collaborating', 'applied basic statistic analytics', 'applied graphs spark graphx', 'apply duns code processing', 'applying machine learning statistical', 'applying software development best', 'approach answering question communicating', 'approach things different angles', 'approaches always striving improve', 'approve new apply duns', 'approved base images dataproc', 'approx per year basic', 'approx tutorials laboratory classes', 'approx uses programming engineering', 'apps details id pro', 'apps details id zibi', 'area disposing reports classifying', 'area tools equipment transport', 'around comprehensive reports per', 'around development ml pipelines', 'around new ideas filling', 'array programming languages technologies', 'arrays conducted control engineering', 'artificial intelligence competent programmer', 'assemble mainly video recording', 'assembly process determine time', 'assessment estimates responsible delivery', 'assign ip addresses hardware', 'assigning procurement task according', 'assigning subnet mask ip', 'assist automated installation configuration', 'assisted weight loss drug', 'assumed_role policy vault create', 'atomic force microscope characterise', 'atomic forces characterisation particles', 'attach policy documents newly', 'attended drop in sessions', 'auditing pc engineering involved', 'automate development release steps', 'automate simplify day to', 'automated installation configuration various', 'automated installation powershell scripts', 'automatically deploys code every', 'automation resource optimisation 09', 'available computer hardware systems', 'award knowledge representation support', 'aws elastic beanstalk automatically', 'aws elastic beanstalk implemented', 'aws ml engineer graph', 'aws s3 bucket created', 'azure databricks powerbi pyspark', 'bachelor industrial engineering degree', 'back model equity products', 'back up software systems', 'backed benchmark leading names', 'backgrounds also post doctoral', 'backgrounds attended drop in', 'backgrounds managing projects try', 'backport features new systems', 'balancer distribute traffic master', 'band bluetooth two protocol', 'bank award knowledge representation', 'bank role finance within', 'banking experienced analysing data', 'base images dataproc deep', 'base successful company builds', 'based apache kubeflow 07', 'based calculated virtual machine', 'based open nhs data', 'based pyspark mainly used', 'based vmware ubuntu virtual', 'bases performing system health', 'bash clojure css emacs', 'bash scripting automate simplify', 'basic operation application materials', 'basic statistic analytics developing', 'basic training network linux', 'basis mastering professional course', 'bch eth led product', 'beanstalk automatically deploys code', 'beanstalk implemented full ci', 'became bu lead co', 'begun data scientist 2016', 'benchmark leading names venture', 'bespoke software solutions diverse', 'best practices agile scrum', 'best practices around development', 'best practices key technologies', 'big data analysis modeling', 'big data engineering projects', 'big data pipelines using', 'big data related projects', 'bioinformatics algorithm design group', 'bios idrac settings utilizing', 'bitcoin transaction data analyse', 'blade involved creating deploying', 'blades servers configuring bios', 'ble huawei lpv2 ble', 'ble letsfit id130 kotlin', 'ble looking new exciting', 'ble mpchartlib cryptogrphy https', 'blockchain data acquisition analysis', 'blockchain data analysed hundreds', 'blockchain devised fundamental clustering', 'blockchain intelligence platform powers', 'blockchain products xrp zec', 'blockchain properties enhance clustering', 'blockchain visualised bitcoin transaction', 'blockchains btc ltc bch', 'blockchains chainalysis builds trust', 'blockchains internal launches backport', 'blockchains people businesses governments', 'bluetooth two protocol ble', 'booting dell m630 blade', 'bridge gap scientific experiments', 'broaden knowledge innovative techniques', 'btc ltc bch eth', 'bu lead co leading', 'bucket created helm chart', 'budgets planning team cost', 'build approved base images', 'build cycle deploying ovf', 'build cycle reassigning virtual', 'build installation configuration multiple', 'building consensus around new', 'building wordpress joomla sites', 'builds bespoke software solutions', 'builds trust blockchains people', 'built complex multi container', 'built data extraction intake', 'built multi master worker', 'built within internally developed', 'bulletproof fault tolerance every', 'business analyst produce around', 'business data help senior', 'business drives related marketing', 'business management imperial college', 'business planning market business', 'business problems analytic frameworks', 'business requirements translate data', 'business research location analysis', 'business sellers first base', 'business technologies ajax css', 'businesses governments blockchain intelligence', 'calculated virtual machine storage', 'calendar permissions daily administrative', 'calibre conferences academia well', 'capable building wordpress joomla', 'capacitors commonly used electrical', 'capital absorbed team members', 'capture convey user privacy', 'capture life cycle management', 'capturing new blockchain data', 'cards san controller assigning', 'career pathing led data', 'carry analysis fix problems', 'caterpillar production line assemble', 'cd pipelines scheduling orchestration', 'cd pipelines support best', 'cd workflow pipeline using', 'cee ericsson version openstack', 'centre company valmet sa', 'centre web gui storage', 'certified apache spark neo4j', 'certified kubernetes administrator field', 'chainalysis builds trust blockchains', 'chainalysis global backed benchmark', 'changes pushed github built', 'characterisation particles strength using', 'characterise particle surfaces measures', 'chart package wordpress php', 'check services operational keeping', 'checks updating software dissertation', 'ci aws elastic beanstalk', 'ci cd pipelines scheduling', 'ci cd pipelines support', 'ci cd workflow pipeline', 'cities worldwide team involved', 'class mechanisms capture convey', 'classes programming field programmable', 'classification part advanced analytics', 'classifying missed parts assigning', 'cleaning large datasets using', 'client access vcentre server', 'client bases performing system', 'client designed built multi', 'client management network configuring', 'clients part role also', 'clojure css emacs fitnesse', 'clojure worked variety testing', 'cloning vmware virtual machines', 'closely bioinformatics algorithm design', 'closely team members implement', 'cloud computing virtualization configuring', 'cloud engineer aws ml', 'cloud framework based pyspark', 'cloud native data analytics', 'cluster based vmware ubuntu', 'cluster computing frameworks apache', 'cluster dynamic persistent volumes', 'cluster hosts vcentre server', 'cluster set envoy proxy', 'cluster vault consul configured', 'clustering heuristics resulting clustering', 'clustering highly passionate ambitious', 'clustering millions ethereum accounts', 'co leading practice data', 'co mmunication make professional', 'code allows historically niche', 'code applying machine learning', 'code every time changes', 'code integrity mockito jmock', 'code processing analyzing business', 'collaborating closely bioinformatics algorithm', 'collaboration coordination example conducted', 'colleagues former direct reports', 'collect business requirements translate', 'collecting processing data excel', 'college london prior obtained', 'com store apps details', 'combined knowledge popular industries', 'commercial development big data', 'commercial forecast 2018 2025', 'commercial products ensuring 100', 'committed development telecommunications industry', 'commonly used electrical engineering', 'communicate technical details deliver', 'communicating controlling overall plan', 'communication engineering good professional', 'communication fast learning skills', 'communication laptops servers management', 'communication network complete development', 'communication skills creative problem', 'communication skills exposure interdisciplinary', 'communication sport band bluetooth', 'companies basis mastering professional', 'company builds bespoke software', 'company business planning market', 'company delivery market primary', 'company valmet sa sweden', 'company years evolved ml', 'compare power consumption product', 'compellent san storage hardware', 'competencies gcp operating technical', 'competent programmer exposed dynamically', 'competing products main job', 'complete assembly process determine', 'complete development cee ericsson', 'completing lots projects processing', 'completing relevant tasks applied', 'complex multi container application', 'complex solutions client designed', 'compliance investigation software world', 'component infrastructure closely team', 'components caterpillar production line', 'compose demonstrating full working', 'comprehensive reports per week', 'computational applications logics also', 'computer hardware systems able', 'computer hardware systems design', 'computer programming languages computer', 'computer system hardware software', 'computing frameworks apache spark', 'computing virtualization configuring revelant', 'concern development set pipelines', 'conducted control engineering lab', 'conducted mathematics statistic supporting', 'conducted team retrospectives allow', 'conferences academia well industry', 'configuration configuring dell sc4020', 'configuration esxi installation windows', 'configuration full shared infrastructure', 'configuration multiple dell r430', 'configuration san controllers setting', 'configuration troubleshooting implementation skills', 'configuration various naval ship', 'configuration virtual machines dell', 'configure deploy computer system', 'configure mailboxes distribution groups', 'configure plugins etc working', 'configure virtual machine settings', 'configured vault assumed_role policy', 'configured vsphere volumes multi', 'configuring bios idrac settings', 'configuring dell sc4020 compellent', 'configuring new virtual machines', 'configuring revelant communication network', 'configuring storage virtual iscsi', 'confirmations sprint lead managing', 'consensus around new ideas', 'consul configured vault assumed_role', 'consultant last years allow', 'consulting field currently pursuing', 'consuming steps implement ergonomics', 'consumption product competing products', 'contacted dell storage centre', 'container application using node', 'continually improved data labelling', 'continuous integration used teamcity', 'control engineering lab sessions', 'control engineering mathematics statistics', 'controller assigning subnet mask', 'controller server dns tools', 'controllers setting volume size', 'controlling overall plan timeline', 'converting latency vbscripts powershell', 'convey user privacy social', 'coordinating well department put', 'coordination example conducted team', 'coordination long term career', 'copenhagen chainalysis global backed', 'core applications administer windows', 'coroutine aidl ble mpchartlib', 'correct cluster hosts vcentre', 'cost projections head count', 'count projections 2019h2 2020', 'counting recycling missing parts', 'course learned python machine', 'cranes analyze utilization rate', 'create iam users attach', 'create new users support', 'created helm chart package', 'created powershell scripts configure', 'created scaled team dedicated', 'creating configuring new virtual', 'creating deploying cloning vmware', 'creating editing automated installation', 'creating ovf template existing', 'creating single page football', 'creation android app https', 'creation configuration san controllers', 'creative problem solving conducted', 'creative self motivated individual', 'cryptocurrencies mobile banking experienced', 'cryptogrphy https play google', 'css eclipse html java', 'css emacs fitnesse git', 'css html intellij java', 'css php5 mysql jscript', 'current operation model team', 'currently actively looking opportunities', 'currently process creating single', 'currently pursuing master degree', 'cutting edge information technology', 'cybercrime ethereum built data', 'cycle deploying ovf template', 'cycle management risk management', 'cycle reassigning virtual machines', 'cycle system equity derivatives', 'daily administrative tasks pc', 'daily tasks administer office', 'dash erc20s including data', 'data 2006 2017 investigated', 'data acquisition analysis three', 'data acquisition data labelling', 'data analyse blockchain properties', 'data analysed hundreds new', 'data analysis modeling big', 'data analytics competencies gcp', 'data analytics projects post', 'data blockchains chainalysis builds', 'data capturing new blockchain', 'data cybercrime ethereum built', 'data dictionary viewer involved', 'data engineering projects translating', 'data engineering tasks guided', 'data engineering teams split', 'data engineers big data', 'data engineers interacted directly', 'data excel examine approve', 'data extraction intake systems', 'data growth gained first', 'data help senior business', 'data labelling continually improved', 'data labelling systems existing', 'data mining techniques focus', 'data pipelines using open', 'data processing ml pipelines', 'data products implementing data', 'data related projects guided', 'data research analyzing skills', 'data researched relevant policies', 'data science colleagues former', 'data science data engineering', 'data science initiatives enhancing', 'data science summer intern', 'data scientist 2016 gradually', 'data scientist technologies python', 'data scientists analysts engineers', 'data scientists data engineers', 'data statistic tool measure', 'data writing reports strengthened', 'database mariadb currently process', 'databricks powerbi pyspark python', 'dataflow certified apache spark', 'dataproc deep learning tf', 'datasets using advanced methods', 'day coordination long term', 'day day coordination long', 'day tasks team help', 'day to day tasks', 'deafferent academic backgrounds also', 'dedicated blockchain data acquisition', 'deep learning tf used', 'defining completing relevant tasks', 'defining optimal approach answering', 'degree communication engineering good', 'degree purdue university apart', 'degree transport business management', 'delays fintech enthusiast cryptocurrencies', 'deliver complex solutions client', 'delivered new blockchain products', 'delivering cloud native data', 'delivering number successful projects', 'delivery big data related', 'delivery management system allow', 'delivery market primary duty', 'dell hardware created powershell', 'dell m630 blade involved', 'dell r430 rack servers', 'dell sc4020 compellent san', 'dell storage centre web', 'demonstrating full working devops', 'department including interactive data', 'department put forward solution', 'deploy computer system hardware', 'deploying cloning vmware virtual', 'deploying ovf template new', 'deployment installation configuration virtual', 'deployment service wds via', 'deployment web application aws', 'deploys code every time', 'deprecate legacy systems created', 'derivatives front back model', 'derivatives part large global', 'design area tools equipment', 'design capable building wordpress', 'design group development data', 'design integration ebay target', 'design level taught 40', 'designed built multi master', 'designing genetic algorithms applied', 'designing implementing testing code', 'designing website prototypes clients', 'details deliver complex solutions', 'details id pro nap', 'details id zibi grocery', 'determine time consuming steps', 'deutsche bank award knowledge', 'develop answer solution iteratively', 'develop parcel delivery management', 'developed cloud native data', 'developed communication skills creative', 'developed internal framework gcp', 'developed platform based apache', 'developed suite applications internal', 'developed wolfson centre company', 'developer array programming languages', 'developer google cloud engineer', 'developer large middle office', 'developer spring sql developed', 'developer squirrel svn teamcity', 'developers delivering number successful', 'developers focusing migration ml', 'developing time series prediction', 'development best practices agile', 'development big data pipelines', 'development cee ericsson version', 'development configuration troubleshooting implementation', 'development data mining techniques', 'development done java sample', 'development lifecycle applying software', 'development migration supervision working', 'development ml pipelines built', 'development particle technology applications', 'development processes broaden knowledge', 'development release steps exposure', 'development set pipelines build', 'development team stretched cities', 'development telecommunications industry internship', 'development testing eventual deployment', 'devised fundamental clustering heuristics', 'devops engineer certified kubernetes', 'devops process development testing', 'diagnosed internal weaknesses make', 'dictionary viewer involved early', 'different angles aim building', 'different scientific backgrounds managing', 'direct reports delivered new', 'direct reports including day', 'direct reports mentored data', 'directly stakeholders collect business', 'directory privileged user account', 'directory services create new', 'disk space check services', 'disposing reports classifying missed', 'dissertation 1st class mechanisms', 'distribute traffic master nodes', 'distribution groups calendar permissions', 'diverse range industries duties', 'dns host name accessible', 'dns manager assign ip', 'dns tools using dns', 'doc engine factory uses', 'docker compose demonstrating full', 'docker docker compose demonstrating', 'docker kubernetes gcp begun', 'doctoral researchers various research', 'documents newly generated user', 'domain controller server dns', 'done java sample projects', 'driven problem solving proven', 'drives related marketing recommendations', 'driving implementation ci cd', 'driving innovation within practice', 'drop in sessions seeking', 'drop in sessions students', 'drug company business planning', 'duns code processing analyzing', 'duties concern development set', 'duties included application testing', 'duties participating basic training', 'duty responsibility front end', 'dynamic innovative devops engineer', 'dynamic persistent volumes set', 'dynamically python statically typed', 'early stages data statistic', 'ebay target small business', 'eclipse html java javascript', 'edge information technology possess', 'editing automated installation powershell', 'education presenting high calibre', 'effectively manage professional relationship', 'efficiency problem newly introduced', 'eight managed seven direct', 'elastic beanstalk automatically deploys', 'elastic beanstalk implemented full', 'electrical electronics engineering control', 'electrical electronics engineering optical', 'electrical engineering level taught', 'electrical engineering programming engineers', 'electronics engineering control engineering', 'electronics engineering optical methods', 'elevated real world scale', 'eliminate waiting time reduce', 'emacs fitnesse git hibernate', 'employ framework on premise', 'enabled collaboration coordination example', 'enabled hone presentation communication', 'end design integration ebay', 'endowed strong leadership teamwork', 'engine factory uses two', 'engineer aws ml engineer', 'engineer became bu lead', 'engineer ble looking new', 'engineer certified kubernetes administrator', 'engineer driven problem solving', 'engineer graph analytics practitioner', 'engineering control engineering mathematics', 'engineering degree purdue university', 'engineering good professional performance', 'engineering involved designing website', 'engineering lab sessions first', 'engineering level taught 40', 'engineering mathematics statistics computer', 'engineering ml industrialisation additional', 'engineering optical methods sensor', 'engineering programming engineers level', 'engineering projects translating business', 'engineering tasks guided participated', 'engineering teams split one', 'engineering types hardware interfaces', 'engineers big data analysis', 'engineers experts help bridge', 'engineers interacted directly stakeholders', 'engineers level taught 50', 'enhance clustering highly passionate', 'enhancing existing data capturing', 'enrich data products implementing', 'enrolled graduate programme accepting', 'ensure code integrity mockito', 'ensure san storage contacted', 'ensuring 100 uptime bulletproof', 'enter small company delivery', 'enthusiasm agile approaches always', 'enthusiast cryptocurrencies mobile banking', 'enthusiastic creative self motivated', 'environment configure mailboxes distribution', 'environments productively interact people', 'envoy proxy sidecars route', 'equipment transport order transport', 'equity derivatives part large', 'equity products trade capture', 'era vodafone involved requirements', 'erc20s including data acquisition', 'ergonomics analysis improve design', 'ericsson version openstack android', 'estimates responsible delivery big', 'esxi installation windows deployment', 'esxi server using vsphere', 'etc administer active directory', 'etc working knowledge html', 'eth led product launches', 'ether movements ethereum blockchain', 'ethereum accounts managed timelines', 'ethereum blockchain devised fundamental', 'ethereum blockchain visualised bitcoin', 'ethereum built data extraction', 'eventual deployment web application', 'every component infrastructure closely', 'every time changes pushed', 'evolved ml engineer became', 'examine approve new apply', 'example conducted team retrospectives', 'excel examine approve new', 'excellent working knowledge tcp', 'excited technologies azure databricks', 'exciting job opportunity communication', 'executives strong troubleshooting skills', 'existing blockchains btc ltc', 'existing data capturing new', 'existing virtual machines previous', 'experienced analysing data blockchains', 'experienced team members driving', 'experienced team members well', 'experienced tutor taught wide', 'experiences endowed strong leadership', 'experiences give feedback predominantly', 'experiments commercial products ensuring', 'expertise academic studies various', 'experts help bridge gap', 'explain problems users administer', 'explore new knowledge currently', 'exploring cleaning large datasets', 'exporting creating ovf template', 'exposed dynamically python statically', 'exposure derivatives front back', 'exposure interdisciplinary phd role', 'external mysql database mariadb', 'extraction intake systems analyse', 'extracurricular experiences endowed strong', 'facilitate deployment installation configuration', 'factory uses two cranes', 'familiar mysql matlab assisted', 'fast learning skills strong', 'fault tolerance affinity rules', 'fault tolerance every component', 'feature engineering ml industrialisation', 'features new systems deprecate', 'feedback predominantly development done', 'field artificial intelligence competent', 'field currently pursuing master', 'field cutting edge information', 'field programmable gate arrays', 'files scripted installation carry', 'filling gaps throughout development', 'finance department including interactive', 'finance within large organisation', 'finding teaching activities highly', 'finish knowledge ability configure', 'fintech enthusiast cryptocurrencies mobile', 'first base successful company', 'first hand knowledge workings', 'first second year undergraduate', 'fit rich framework acceptance', 'fitnesse git hibernate html', 'five person team tasked', 'fix problems may occur', 'flink dataflow certified apache', 'flink gelly years teaching', 'flow complete assembly process', 'focus designing implementing testing', 'focus process mining text', 'focusing migration ml models', 'focussed supporting blockchains internal', 'football statistic web application', 'force microscope characterise particle', 'forces characterisation particles strength', 'forecast 2018 2025 collecting', 'forecasts enrich data products', 'form time action research', 'former direct reports delivered', 'forward solution efficiency problem', 'foundation year phd level', 'framework acceptance level regression', 'framework based pyspark mainly', 'framework development migration supervision', 'framework gcp also managing', 'framework on premise cloud', 'frameworks apache spark flink', 'frameworks communicating controlling overall', 'frameworks defining optimal approach', 'frameworks ensure code integrity', 'free up disk space', 'front back model equity', 'front end design integration', 'full ci cd workflow', 'full shared infrastructure system', 'full working devops process', 'function budgets planning team', 'fundamental clustering heuristics resulting', 'gained first hand knowledge', 'gap analysis impact assessment', 'gap scientific experiments commercial', 'gaps throughout development lifecycle', 'gate arrays conducted control', 'gathered analyzed data cybercrime', 'gathering process gap analysis', 'gcp also managing migration', 'gcp begun data scientist', 'gcp operating technical lead', 'gelly years teaching higher', 'generated user access aws', 'generating high value forecasts', 'genetic algorithms applied graphs', 'getting familiar mysql matlab', 'git hibernate html intellij', 'github built complex multi', 'github travis ci aws', 'give feedback predominantly development', 'global backed benchmark leading', 'global development team stretched', 'going site client bases', 'good professional performance strong', 'google cloud engineer aws', 'google com store apps', 'governments blockchain intelligence platform', 'gradually progressed within company', 'graduate programme accepting offer', 'graph analytics practitioner hands', 'graphics processor units video', 'graphs designing genetic algorithms', 'graphs spark graphx flink', 'graphx flink gelly years', 'grocery kotlin room livedata', 'group computational applications logics', 'group development data mining', 'group policies set up', 'groups calendar permissions daily', 'growth gained first hand', 'gui storage manager client', 'guided business drives related', 'guided participated defining completing', 'ha kubernetes cluster based', 'ha kubernetes cluster dynamic', 'hand knowledge workings investment', 'handling statistically analysing large', 'hands on handling statistically', 'haproxy load balancer distribute', 'hardware created powershell scripts', 'hardware interfaces available computer', 'hardware servers network switches', 'hardware software including limited', 'hardware systems able provide', 'hardware systems design level', 'hardware via putty session', 'head count projections 2019h2', 'health checks updating software', 'helm chart package wordpress', 'help automate development release', 'help bridge gap scientific', 'help senior business analyst', 'heuristics resulting clustering millions', 'hibernate html intellij java', 'high calibre conferences academia', 'high value forecasts enrich', 'higher education presenting high', 'highly developed communication skills', 'highly passionate ambitious analytical', 'historically niche research elevated', 'histories extracurricular experiences endowed', 'hone presentation communication skills', 'host name accessible communication', 'hosts vcentre server installation', 'html intellij java javascript', 'html java javascript jsp', 'html photoshop css php5', 'https play google com', 'huawei lpv2 ble letsfit', 'hundreds new services present', 'iam users attach policy', 'id pro nap creation', 'id zibi grocery kotlin', 'id130 kotlin ux ui', 'ideas filling gaps throughout', 'idrac settings utilizing system', 'images dataproc deep learning', 'impact assessment estimates responsible', 'impact tester developed wolfson', 'imperial college london prior', 'implement best practices key', 'implement ergonomics analysis improve', 'implementation ci cd pipelines', 'implementation skills also skills', 'implemented full ci cd', 'implemented methodology use afm', 'implementing data processing ml', 'implementing testing code allows', 'improve design area tools', 'improve development processes broaden', 'improved data labelling systems', 'in sessions seeking support', 'in sessions students staff', 'include translating business problems', 'included application testing network', 'including data acquisition data', 'including day day coordination', 'including interactive data dictionary', 'including limited operating system', 'including materials electrical electronics', 'including protocol analysis install', 'individual possesses remarkable technical', 'industrial engineering degree purdue', 'industrial placement primary role', 'industrialisation additional duties concern', 'industries duties included application', 'industries traditional co mmunication', 'industry enabled hone presentation', 'industry internship two telecommunications', 'information technology possess systems', 'infrastructure closely team members', 'infrastructure running etc administer', 'infrastructure system build installation', 'initiatives enhancing existing data', 'innovation within practice led', 'innovation within practice responsibilities', 'innovative devops engineer certified', 'innovative techniques achieve technologies', 'install configure deploy computer', 'installation carry analysis fix', 'installation configuration configuring dell', 'installation configuration esxi installation', 'installation configuration full shared', 'installation configuration multiple dell', 'installation configuration various naval', 'installation configuration virtual machines', 'installation powershell scripts facilitate', 'installation scripts creating configuring', 'installation windows deployment service', 'institutions offices ny copenhagen', 'intake systems analyse ether', 'integration development configuration troubleshooting', 'integration ebay target small', 'integration used teamcity bash', 'integrity mockito jmock unit', 'intelligence competent programmer exposed', 'intelligence platform powers compliance', 'intelligent systems group computational', 'intellij java javascript jira', 'intellij java javascript oracle', 'interact people different scientific', 'interacted directly stakeholders collect', 'interactive data dictionary viewer', 'interdisciplinary phd role consultant', 'interest electrical electronics engineering', 'interest linking research finding', 'interfaces available computer hardware', 'intern 2018 program researched', 'internal framework gcp also', 'internal launches backport features', 'internal php requests external', 'internal use finance department', 'internal weaknesses make precise', 'internally developed platform based', 'internship two telecommunications companies', 'introduced components caterpillar production', 'investigated current operation model', 'investigation software world top', 'investment bank role finance', 'involved agile methodologies enabled', 'involved creating deploying cloning', 'involved designing website prototypes', 'involved early stages data', 'involved going site client', 'involved requirements gathering process', 'ip addresses adopted volume', 'ip addresses hardware servers', 'ip protocol services including', 'iscsi cards san controller', 'iscsi ports iscsi cards', 'isolation wired wireless networks', 'iteratively writing reusable code', 'java javascript jira jmock', 'java javascript jsp sql', 'java javascript oracle developer', 'java kotlin ux ui', 'java programming languages commercial', 'java sample projects clojure', 'javascript jira jmock json', 'javascript jsp sql member', 'javascript oracle developer spring', 'jenkins airflow kubeflow docker', 'jira jmock json maven', 'jmock json maven mockito', 'jmock unit testing fit', 'job duties participating basic', 'job opportunity communication sport', 'jobs employ framework on', 'joomla sites start finish', 'jquery msc degree communication', 'jscript jquery msc degree', 'json maven mockito oracle', 'jsoup selenium webdriver java', 'jsp sql member five', 'keen enthusiasm agile approaches', 'keepalived haproxy load balancer', 'keeping infrastructure running etc', 'key stakeholders unique ability', 'key technologies working members', 'knowledge ability configure plugins', 'knowledge combined knowledge popular', 'knowledge currently actively looking', 'knowledge html photoshop css', 'knowledge innovative techniques achieve', 'knowledge popular industries traditional', 'knowledge representation support specialist', 'knowledge tcp ip protocol', 'knowledge workings investment bank', 'kotlin room livedata ux', 'kotlin ux ui coroutine', 'kotlin ux ui mvp', 'kubeflow 07 2020 developed', 'kubeflow docker kubernetes gcp', 'kubernetes administrator field cutting', 'kubernetes cluster based vmware', 'kubernetes cluster dynamic persistent', 'kubernetes cluster set envoy', 'kubernetes cluster vault consul', 'kubernetes gcp begun data', 'lab sessions first second', 'labelling continually improved data', 'labelling systems existing blockchains', 'laboratory classes programming field', 'languages commercial development big', 'languages computer hardware systems', 'languages technologies possessing keen', 'laptops servers management network', 'large datasets using advanced', 'large global development team', 'large graphs designing genetic', 'large middle office life', 'large organisation technologies css', 'last years allow quickly', 'latency vbscripts powershell powercli', 'launches backport features new', 'launches focussed supporting blockchains', 'lead co leading practice', 'lead managing team developers', 'lead part new team', 'leadership teamwork multitasking skills', 'leading names venture capital', 'leading practice data scientists', 'learn software testing test', 'learned python machine learning', 'learning engineer driven problem', 'learning related knowledge combined', 'learning skills strong willingness', 'learning statistical analysis mentoring', 'learning tf used data', 'leaver process password resets', 'led agile team data', 'led data science initiatives', 'led product launches focussed', 'legacy systems created scaled', 'less experienced team members', 'letsfit id130 kotlin ux', 'level deafferent academic backgrounds', 'level regression testing continuous', 'level taught 40 students', 'level taught 50 students', 'life cycle management risk', 'life cycle system equity', 'life part predictions market', 'lifecycle applying software development', 'limited operating system application', 'line assemble mainly video', 'linking research finding teaching', 'linux cloud computing virtualization', 'linux terminal back up', 'livedata ux ui mvvm', 'load balancer distribute traffic', 'location analysis based open', 'log files scripted installation', 'logics also collaborating closely', 'london prior obtained bachelor', 'london railway diagnosed internal', 'long term career pathing', 'looking new exciting job', 'looking opportunities consulting field', 'loss drug company business', 'lots projects processing data', 'lpv2 ble letsfit id130', 'ltc bch eth led', 'lun based calculated virtual', 'm630 blade involved creating', 'm630 blades servers configuring', 'mac os network troubleshooting', 'machine learning engineer driven', 'machine learning related knowledge', 'machine learning statistical analysis', 'machine settings virtual graphics', 'machine storage utilization optimistic', 'machines active directory privileged', 'machines correct cluster hosts', 'machines dell hardware created', 'machines keepalived haproxy load', 'machines manipulating running installation', 'machines previous build cycle', 'machines vmware esxi server', 'mailboxes distribution groups calendar', 'main job duties participating', 'mainly used feature engineering', 'mainly video recording form', 'make precise commercial forecast', 'make professional talent learn', 'manage professional relationship various', 'managed seven direct reports', 'managed timelines projects related', 'managed twelve direct reports', 'management imperial college london', 'management network configuring storage', 'management network vmware installation', 'management risk management settlements', 'management settlements confirmations sprint', 'management system allow metapack', 'manager assign ip addresses', 'manager client management network', 'managing migration ci cd', 'managing projects try approach', 'managing team developers delivering', 'manipulating running installation scripts', 'mariadb currently process creating', 'market business research location', 'market modelling team responsible', 'market primary duty responsibility', 'marketing recommendations automation resource', 'marking time reasons stock', 'mask ip addresses adopted', 'master degree transport business', 'master nodes resiliency configured', 'master worker ha kubernetes', 'mastering professional course learned', 'materials electrical electronics engineering', 'materials electrical engineering level', 'materials semiconductors capacitors commonly', 'mathematics statistic supporting drop', 'mathematics statistics computer programming', 'mathematics statistics related problem', 'matlab assisted weight loss', 'maven mockito oracle ognl', 'may occur process storage', 'meanwhile completing lots projects', 'measure data growth gained', 'measures topography surface using', 'mechanisms capture convey user', 'member five person team', 'members agent intelligent systems', 'members driving innovation within', 'members implement best practices', 'members responsibilities two data', 'members well driving innovation', 'memory fault tolerance affinity', 'mentored data science colleagues', 'mentoring less experienced team', 'mentoring training less experienced', 'metapack enter small company', 'methodologies enabled collaboration coordination', 'methodology use afm atomic', 'methods develop answer solution', 'methods sensor development particle', 'microscope characterise particle surfaces', 'middle office life cycle', 'migration ci cd pipelines', 'migration era vodafone involved', 'migration ml models developed', 'migration supervision working team', 'millions ethereum accounts managed', 'mining techniques focus process', 'mining text classification part', 'missed parts assigning procurement', 'missing parts report plant', 'ml engineer became bu', 'ml engineer graph analytics', 'ml framework development migration', 'ml industrialisation additional duties', 'ml models developed internal', 'ml pipelines built within', 'ml pipelines predict operations', 'mmunication make professional talent', 'mobile banking experienced analysing', 'mobile phones time compare', 'mockito jmock unit testing', 'mockito oracle ognl rich', 'model equity products trade', 'model team passengers products', 'modeling big data engineering', 'modelling team responsible generating', 'models developed internal framework', 'models operate alert triggers', 'motivated individual possesses remarkable', 'movements ethereum blockchain visualised', 'mpchartlib cryptogrphy https play', 'ms office support core', 'msc degree communication engineering', 'multi container application using', 'multi master worker ha', 'multiple dell r430 rack', 'multitasking skills meanwhile completing', 'mvp mvvm proactive academic', 'mvvm jsoup selenium webdriver', 'mvvm proactive academic wide', 'mysql database mariadb currently', 'mysql jscript jquery msc', 'mysql matlab assisted weight', 'name accessible communication laptops', 'names venture capital absorbed', 'nap creation android app', 'native data analytics competencies', 'native data analytics projects', 'naval ship projects creating', 'necessary counting recycling missing', 'neo4j developer google cloud', 'network auditing pc engineering', 'network complete development cee', 'network configuring storage virtual', 'network linux cloud computing', 'network switches dns host', 'network troubleshooting problem isolation', 'network vmware installation configuration', 'networking sites smart phones', 'networks excellent working knowledge', 'new apply duns code', 'new blockchain data analysed', 'new blockchain products xrp', 'new build cycle reassigning', 'new environments productively interact', 'new exciting job opportunity', 'new ideas filling gaps', 'new knowledge currently actively', 'new services present ethereum', 'new systems deprecate legacy', 'new team responsible delivering', 'new users support leaver', 'new virtual machines vmware', 'newly generated user access', 'newly introduced components caterpillar', 'nhs data researched relevant', 'niche research elevated real', 'node react redis postgres', 'nodes resiliency configured vsphere', 'number successful projects business', 'ny copenhagen chainalysis global', 'obtained bachelor industrial engineering', 'obtaining exploring cleaning large', 'occupational histories extracurricular experiences', 'occur process storage installation', 'offer industrial placement primary', 'offering advanced warning necessary', 'office 365 environment configure', 'office life cycle system', 'office support core applications', 'offices ny copenhagen chainalysis', 'offices summarizing purchase records', 'ognl rich sql developer', 'on handling statistically analysing', 'on premise cloud framework', 'one sub team separate', 'open nhs data researched', 'open source cluster computing', 'openstack android engineer ble', 'operate alert triggers relevant', 'operating data 2006 2017', 'operating system application software', 'operating systems windows pro', 'operating technical lead part', 'operation application materials semiconductors', 'operation model team passengers', 'operational keeping infrastructure running', 'operations 10 000 tankers', 'opportunities consulting field currently', 'opportunity communication sport band', 'optical methods sensor development', 'optimal approach answering question', 'optimisation 09 2019 ml', 'optimistic enthusiastic creative self', 'oracle developer spring sql', 'oracle ognl rich sql', 'orchestration jobs employ framework', 'order transport doc engine', 'organisation technologies css eclipse', 'os network troubleshooting problem', 'out coordinating well department', 'overall plan timeline mentoring', 'overall plan timeline obtaining', 'ovf template existing virtual', 'ovf template new build', 'package wordpress php application', 'page football statistic web', 'pandas dynamic innovative devops', 'parcel delivery management system', 'part advanced analytics team', 'part large global development', 'part new team responsible', 'part predictions market modelling', 'part role also involved', 'participated defining completing relevant', 'participating basic training network', 'particle surfaces measures topography', 'particle technology applications experienced', 'particles strength using impact', 'parts assigning procurement task', 'parts report plant area', 'passengers products services london', 'passionate ambitious analytical developer', 'password resets daily tasks', 'pathing led data science', 'pc engineering involved designing', 'pc operating systems windows', 'people businesses governments blockchain', 'people different scientific backgrounds', 'per week offering advanced', 'per year basic operation', 'performance mobile phones time', 'performance strong practical ability', 'performing system health checks', 'permissions daily administrative tasks', 'persistent volumes set kubernetes', 'person team tasked develop', 'personal using docker docker', 'phd level deafferent academic', 'phd role consultant last', 'phd studentship placement placement', 'phones deutsche bank award', 'phones time compare power', 'photoshop css php5 mysql', 'php application kubernetes cluster', 'php requests external mysql', 'php5 mysql jscript jquery', 'pipeline using github travis', 'pipelines build approved base', 'pipelines built within internally', 'pipelines predict operations 10', 'pipelines scheduling orchestration jobs', 'pipelines support best practices', 'pipelines using open source', 'placement implemented methodology use', 'placement placement implemented methodology', 'placement primary role developer', 'plan timeline mentoring training', 'plan timeline obtaining exploring', 'planning market business research', 'planning team cost projections', 'plant area disposing reports', 'platform based apache kubeflow', 'platform powers compliance investigation', 'play google com store', 'plugins etc working knowledge', 'policies operating data 2006', 'policies set up domain', 'policy documents newly generated', 'policy vault create iam', 'popular industries traditional co', 'ports iscsi cards san', 'possess systems integration development', 'possesses remarkable technical communication', 'possessing keen enthusiasm agile', 'post doctoral researchers various', 'post migration era vodafone', 'postgraduate students strong interest', 'postgres converting latency vbscripts', 'power consumption product competing', 'powerbi pyspark python scklearn', 'powercli scripts assist automated', 'powers compliance investigation software', 'powershell powercli scripts assist', 'powershell scripts configure virtual', 'powershell scripts facilitate deployment', 'practical ability committed development', 'practice data scientists data', 'practice led agile team', 'practice responsibilities include translating', 'practices agile scrum tdd', 'practices around development ml', 'practices key technologies working', 'practitioner hands on handling', 'precise commercial forecast 2018', 'predict operations 10 000', 'prediction models operate alert', 'predictions market modelling team', 'predominantly development done java', 'premise cloud framework based', 'present ethereum blockchain devised', 'presentation communication skills exposure', 'presenting high calibre conferences', 'previous build cycle deploying', 'primary duty responsibility front', 'primary role developer large', 'prior obtained bachelor industrial', 'privacy social networking sites', 'privileged user account group', 'pro linux terminal back', 'pro nap creation android', 'pro windows 10 pro', 'pro windows pro windows', 'proactive academic wide range', 'problem isolation wired wireless', 'problem newly introduced components', 'problem solving conducted mathematics', 'problem solving proven academic', 'problem students foundation year', 'problems analytic frameworks communicating', 'problems analytic frameworks defining', 'problems may occur process', 'problems users administer ms', 'process creating single page', 'process determine time consuming', 'process development testing eventual', 'process gap analysis impact', 'process mining text classification', 'process password resets daily', 'process storage installation configuration', 'processes broaden knowledge innovative', 'processing analyzing business data', 'processing data excel examine', 'processing data writing reports', 'processing ml pipelines predict', 'processor units video memory', 'procurement task according purchasing', 'produce around comprehensive reports', 'product competing products main', 'product launches focussed supporting', 'production delays fintech enthusiast', 'production line assemble mainly', 'productively interact people different', 'products ensuring 100 uptime', 'products implementing data processing', 'products main job duties', 'products services london railway', 'products trade capture life', 'products xrp zec dash', 'professional course learned python', 'professional expertise academic studies', 'professional performance strong practical', 'professional relationship various key', 'professional talent learn software', 'program researched gathered analyzed', 'programmable gate arrays conducted', 'programme accepting offer industrial', 'programmer exposed dynamically python', 'programming engineering types hardware', 'programming engineers level taught', 'programming field programmable gate', 'programming languages commercial development', 'programming languages computer hardware', 'programming languages technologies possessing', 'progressed within company years', 'projections 2019h2 2020 managed', 'projections head count projections', 'projects business technologies ajax', 'projects clojure worked variety', 'projects creating editing automated', 'projects guided business drives', 'projects post migration era', 'projects processing data writing', 'projects related data science', 'projects translating business problems', 'projects try approach things', 'properties enhance clustering highly', 'protocol analysis install configure', 'protocol ble huawei lpv2', 'protocol services including protocol', 'prototypes clients part role', 'proven academic record field', 'provide successful supervision support', 'proxy sidecars route internal', 'purchase records marking time', 'purchasing offices summarizing purchase', 'purdue university apart acquiring', 'pursuing master degree transport', 'pushed github built complex', 'put forward solution efficiency', 'putty session ensure san', 'pxe booting dell m630', 'pyspark jenkins airflow kubeflow', 'pyspark mainly used feature', 'pyspark python scklearn pandas', 'python developers focusing migration', 'python machine learning related', 'python pyspark jenkins airflow', 'python scklearn pandas dynamic', 'python statically typed java', 'question communicating controlling overall', 'quickly adjust new environments', 'r430 rack servers m630', 'rack servers m630 blades', 'railway diagnosed internal weaknesses', 'range industries duties included', 'range research interest electrical', 'range subjects including materials', 'rate eliminate waiting time', 'react redis postgres converting', 'real world scale working', 'reasons stock out coordinating', 'reassigning virtual machines correct', 'recommendations automation resource optimisation', 'record field artificial intelligence', 'recording form time action', 'records marking time reasons', 'recycling missing parts report', 'redis postgres converting latency', 'reduce production delays fintech', 'regression testing continuous integration', 'related data science summer', 'related knowledge combined knowledge', 'related marketing recommendations automation', 'related problem students foundation', 'related projects guided business', 'relationship various key stakeholders', 'release steps exposure derivatives', 'relevant policies operating data', 'relevant tasks applied basic', 'relevant thresholds excited technologies', 'remarkable technical communication fast', 'report plant area disposing', 'reports classifying missed parts', 'reports delivered new blockchain', 'reports including day day', 'reports mentored data science', 'reports per week offering', 'reports strengthened data research', 'representation support specialist years', 'requests external mysql database', 'requirements gathering process gap', 'requirements translate data science', 'research analysis updated standard', 'research analyzing skills getting', 'research backgrounds attended drop', 'research elevated real world', 'research finding teaching activities', 'research interest electrical electronics', 'research location analysis based', 'researched gathered analyzed data', 'researched relevant policies operating', 'researcher along phd studentship', 'researchers various research backgrounds', 'resets daily tasks administer', 'resiliency configured vsphere volumes', 'resource optimisation 09 2019', 'responsibilities include translating business', 'responsibilities two data engineering', 'responsibility front end design', 'responsible delivering cloud native', 'responsible delivery big data', 'responsible driving implementation ci', 'responsible generating high value', 'resulting clustering millions ethereum', 'retrospectives allow team share', 'reusable code applying machine', 'revelant communication network complete', 'rich framework acceptance level', 'rich sql developer squirrel', 'risk management settlements confirmations', 'role also involved going', 'role consultant last years', 'role developer large middle', 'role finance within large', 'room livedata ux ui', 'route internal php requests', 'rules virtualized machines active', 'running etc administer active', 'running installation scripts creating', 's3 bucket created helm', 'sample projects clojure worked', 'san controller assigning subnet', 'san controllers setting volume', 'san storage contacted dell', 'san storage hardware via', 'sc4020 compellent san storage', 'scale working data scientists', 'scaled team dedicated blockchain', 'scheduling orchestration jobs employ', 'science colleagues former direct', 'science data engineering tasks', 'science initiatives enhancing existing', 'science summer intern 2018', 'scientific backgrounds managing projects', 'scientific experiments commercial products', 'scientist 2016 gradually progressed', 'scientist technologies python pyspark', 'scientists analysts engineers experts', 'scientists data engineers big', 'scientists data engineers interacted', 'scklearn pandas dynamic innovative', 'scripted installation carry analysis', 'scripting automate simplify day', 'scripts assist automated installation', 'scripts configure virtual machine', 'scripts creating configuring new', 'scripts facilitate deployment installation', 'scrum tdd life part', 'second year undergraduate students', 'seeking support advice materials', 'selenium webdriver java kotlin', 'self motivated individual possesses', 'sellers first base successful', 'semiconductors capacitors commonly used', 'senior business analyst produce', 'senior executives strong troubleshooting', 'sensor development particle technology', 'separate function budgets planning', 'series prediction models operate', 'server dns tools using', 'server exporting creating ovf', 'server installation configuration full', 'server using vsphere client', 'servers configuring bios idrac', 'servers free up disk', 'servers m630 blades servers', 'servers management network vmware', 'servers network switches dns', 'service wds via pxe', 'services create new users', 'services including protocol analysis', 'services london railway diagnosed', 'services operational keeping infrastructure', 'services present ethereum blockchain', 'session ensure san storage', 'sessions first second year', 'sessions seeking support advice', 'sessions students staff solve', 'set envoy proxy sidecars', 'set kubernetes cluster vault', 'set pipelines build approved', 'set up domain controller', 'setting volume size lun', 'settings utilizing system log', 'settings virtual graphics processor', 'settlements confirmations sprint lead', 'seven direct reports including', 'share experiences give feedback', 'shared infrastructure system build', 'ship projects creating editing', 'sidecars route internal php', 'simplify day to day', 'single page football statistic', 'site client bases performing', 'sites smart phones deutsche', 'sites start finish knowledge', 'size lun based calculated', 'skillful support senior executives', 'skills ability understand explain', 'skills also skills effectively', 'skills creative problem solving', 'skills effectively manage professional', 'skills exposure interdisciplinary phd', 'skills getting familiar mysql', 'skills meanwhile completing lots', 'skills strong willingness explore', 'small business sellers first', 'small company delivery market', 'smart phones deutsche bank', 'social networking sites smart', 'software development best practices', 'software dissertation 1st class', 'software including limited operating', 'software solutions diverse range', 'software systems apple mac', 'software testing test analyze', 'software web design capable', 'software world top institutions', 'solution efficiency problem newly', 'solution iteratively writing reusable', 'solutions client designed built', 'solutions diverse range industries', 'solve mathematics statistics related', 'solving conducted mathematics statistic', 'solving proven academic record', 'source cluster computing frameworks', 'space check services operational', 'spark flink dataflow certified', 'spark graphx flink gelly', 'spark neo4j developer google', 'specialist years thorough skillful', 'split one sub team', 'sport band bluetooth two', 'spring sql developed suite', 'sprint lead managing team', 'sql developed suite applications', 'sql developer squirrel svn', 'sql member five person', 'squirrel svn teamcity tdd', 'staff solve mathematics statistics', 'stages data statistic tool', 'stakeholders collect business requirements', 'stakeholders unique ability communicate', 'standard flow complete assembly', 'start finish knowledge ability', 'statically typed java programming', 'statistic analytics developing time', 'statistic supporting drop in', 'statistic tool measure data', 'statistic web application personal', 'statistical analysis mentoring less', 'statistically analysing large graphs', 'statistics computer programming languages', 'statistics related problem students', 'steps exposure derivatives front', 'steps implement ergonomics analysis', 'stock out coordinating well', 'storage centre web gui', 'storage contacted dell storage', 'storage hardware via putty', 'storage installation configuration configuring', 'storage manager client management', 'storage utilization optimistic enthusiastic', 'storage virtual iscsi ports', 'store apps details id', 'strength using impact tester', 'strengthened data research analyzing', 'stretched cities worldwide team', 'striving improve development processes', 'strong interest linking research', 'strong leadership teamwork multitasking', 'strong practical ability committed', 'strong troubleshooting skills ability', 'strong willingness explore new', 'students approx per year', 'students approx tutorials laboratory', 'students approx uses programming', 'students foundation year phd', 'students staff solve mathematics', 'students strong interest linking', 'students working researcher along', 'studentship placement placement implemented', 'studies various occupational histories', 'sub team separate function', 'subjects including materials electrical', 'subnet mask ip addresses', 'successful company builds bespoke', 'successful projects business technologies', 'successful supervision support undergraduate', 'suite applications internal use', 'summarizing purchase records marking', 'summer intern 2018 program', 'supervision support undergraduate postgraduate', 'supervision working team python', 'support advice materials electrical', 'support best practices around', 'support core applications administer', 'support leaver process password', 'support senior executives strong', 'support specialist years thorough', 'support undergraduate postgraduate students', 'supporting blockchains internal launches', 'supporting drop in sessions', 'surface using atomic forces', 'surfaces measures topography surface', 'svn teamcity tdd toad', 'switches dns host name', 'system allow metapack enter', 'system application software web', 'system build installation configuration', 'system equity derivatives part', 'system focus designing implementing', 'system hardware software including', 'system health checks updating', 'system log files scripted', 'systems able provide successful', 'systems analyse ether movements', 'systems apple mac os', 'systems created scaled team', 'systems deprecate legacy systems', 'systems design level taught', 'systems existing blockchains btc', 'systems group computational applications', 'systems integration development configuration', 'systems windows pro windows', 'talent learn software testing', 'tankers tracked system focus', 'target small business sellers', 'task according purchasing offices', 'tasked develop parcel delivery', 'tasks administer office 365', 'tasks applied basic statistic', 'tasks guided participated defining', 'tasks pc operating systems', 'tasks team help automate', 'taught 40 students approx', 'taught 50 students approx', 'taught wide range subjects', 'tcp ip protocol services', 'tdd life part predictions', 'tdd toad enrolled graduate', 'teaching activities highly developed', 'teaching higher education presenting', 'team cost projections head', 'team data scientists data', 'team dedicated blockchain data', 'team developers delivering number', 'team help automate development', 'team involved agile methodologies', 'team members driving innovation', 'team members implement best', 'team members responsibilities two', 'team members well driving', 'team passengers products services', 'team python developers focusing', 'team responsible delivering cloud', 'team responsible driving implementation', 'team responsible generating high', 'team retrospectives allow team', 'team separate function budgets', 'team share experiences give', 'team stretched cities worldwide', 'team tasked develop parcel', 'teamcity bash scripting automate', 'teamcity tdd toad enrolled', 'teams split one sub', 'teamwork multitasking skills meanwhile', 'technical communication fast learning', 'technical details deliver complex', 'technical lead part new', 'techniques achieve technologies bash', 'techniques focus process mining', 'technologies ajax css html', 'technologies azure databricks powerbi', 'technologies bash clojure css', 'technologies css eclipse html', 'technologies possessing keen enthusiasm', 'technologies python pyspark jenkins', 'technologies working members agent', 'technology applications experienced tutor', 'technology possess systems integration', 'telecommunications companies basis mastering', 'telecommunications industry internship two', 'template existing virtual machines', 'template new build cycle', 'term career pathing led', 'terminal back up software', 'test analyze performance mobile', 'tester developed wolfson centre', 'testing code allows historically', 'testing continuous integration used', 'testing eventual deployment web', 'testing fit rich framework', 'testing frameworks ensure code', 'testing network auditing pc', 'testing test analyze performance', 'text classification part advanced', 'tf used data scientist', 'things different angles aim', 'thorough skillful support senior', 'three eight managed seven', 'thresholds excited technologies azure', 'throughout development lifecycle applying', 'time action research analysis', 'time changes pushed github', 'time compare power consumption', 'time consuming steps implement', 'time reasons stock out', 'time reduce production delays', 'time series prediction models', 'timeline mentoring training less', 'timeline obtaining exploring cleaning', 'timelines projects related data', 'to day tasks team', 'toad enrolled graduate programme', 'tolerance affinity rules virtualized', 'tolerance every component infrastructure', 'tool measure data growth', 'tools equipment transport order', 'tools using dns manager', 'top institutions offices ny', 'topography surface using atomic', 'tracked system focus designing', 'trade capture life cycle', 'traditional co mmunication make', 'traffic master nodes resiliency', 'training less experienced team', 'training network linux cloud', 'transaction data analyse blockchain', 'translate data science data', 'translating business problems analytic', 'transport business management imperial', 'transport doc engine factory', 'transport order transport doc', 'travis ci aws elastic', 'triggers relevant thresholds excited', 'troubleshooting implementation skills also', 'troubleshooting problem isolation wired', 'troubleshooting skills ability understand', 'trust blockchains people businesses', 'try approach things different', 'tutor taught wide range', 'tutorials laboratory classes programming', 'twelve direct reports mentored', 'two cranes analyze utilization', 'two data engineering teams', 'two protocol ble huawei', 'two telecommunications companies basis', 'typed java programming languages', 'types hardware interfaces available', 'ubuntu virtual machines keepalived', 'ui coroutine aidl ble', 'ui mvp mvvm proactive', 'ui mvvm jsoup selenium', 'undergraduate postgraduate students strong', 'undergraduate students working researcher', 'understand explain problems users', 'unique ability communicate technical', 'unit testing fit rich', 'units video memory fault', 'university apart acquiring professional', 'up disk space check', 'up domain controller server', 'up software systems apple', 'updated standard flow complete', 'updating software dissertation 1st', 'uptime bulletproof fault tolerance', 'use afm atomic force', 'use finance department including', 'used data scientist technologies', 'used electrical engineering programming', 'used feature engineering ml', 'used teamcity bash scripting', 'user access aws s3', 'user account group policies', 'user privacy social networking', 'users administer ms office', 'users attach policy documents', 'users support leaver process', 'uses programming engineering types', 'uses two cranes analyze', 'using advanced methods develop', 'using atomic forces characterisation', 'using dns manager assign', 'using docker docker compose', 'using github travis ci', 'using impact tester developed', 'using node react redis', 'using open source cluster', 'using vsphere client access', 'utilization optimistic enthusiastic creative', 'utilization rate eliminate waiting', 'utilizing system log files', 'ux ui coroutine aidl', 'ux ui mvp mvvm', 'ux ui mvvm jsoup', 'value forecasts enrich data', 'variety testing frameworks ensure', 'various key stakeholders unique', 'various naval ship projects', 'various occupational histories extracurricular', 'various research backgrounds attended', 'vault assumed_role policy vault', 'vault consul configured vault', 'vault create iam users', 'vbscripts powershell powercli scripts', 'vcentre server exporting creating', 'vcentre server installation configuration', 'venture capital absorbed team', 'version openstack android engineer', 'via putty session ensure', 'via pxe booting dell', 'video memory fault tolerance', 'video recording form time', 'viewer involved early stages', 'virtual graphics processor units', 'virtual iscsi ports iscsi', 'virtual machine settings virtual', 'virtual machine storage utilization', 'virtual machines correct cluster', 'virtual machines dell hardware', 'virtual machines keepalived haproxy', 'virtual machines manipulating running', 'virtual machines previous build', 'virtual machines vmware esxi', 'virtualization configuring revelant communication', 'virtualized machines active directory', 'visualised bitcoin transaction data', 'vmware esxi server using', 'vmware installation configuration esxi', 'vmware ubuntu virtual machines', 'vmware virtual machines manipulating', 'vodafone involved requirements gathering', 'volume creation configuration san', 'volume size lun based', 'volumes multi master worker', 'volumes set kubernetes cluster', 'vsphere client access vcentre', 'vsphere volumes multi master', 'waiting time reduce production', 'warning necessary counting recycling', 'wds via pxe booting', 'weaknesses make precise commercial', 'web application aws elastic', 'web application personal using', 'web design capable building', 'web gui storage manager', 'webdriver java kotlin ux', 'website prototypes clients part', 'week offering advanced warning', 'weight loss drug company', 'well department put forward', 'well driving innovation within', 'well industry enabled hone', 'wide range research interest', 'wide range subjects including', 'willingness explore new knowledge', 'windows 10 pro linux', 'windows deployment service wds', 'windows pro windows 10', 'windows pro windows pro', 'windows servers free up', 'wired wireless networks excellent', 'wireless networks excellent working', 'within company years evolved', 'within internally developed platform', 'within large organisation technologies', 'within practice led agile', 'within practice responsibilities include', 'wolfson centre company valmet', 'wordpress joomla sites start', 'wordpress php application kubernetes', 'worked variety testing frameworks', 'worker ha kubernetes cluster', 'workflow pipeline using github', 'working data scientists analysts', 'working devops process development', 'working knowledge html photoshop', 'working knowledge tcp ip', 'working members agent intelligent', 'working researcher along phd', 'working team python developers', 'workings investment bank role', 'world scale working data', 'world top institutions offices', 'worldwide team involved agile', 'writing reports strengthened data', 'writing reusable code applying', 'xrp zec dash erc20s', 'year basic operation application', 'year phd level deafferent', 'year undergraduate students working', 'years allow quickly adjust', 'years evolved ml engineer', 'years teaching higher education', 'years thorough skillful support', 'zec dash erc20s including', 'zibi grocery kotlin room']\n",
      "\n",
      "\n",
      "X1 : \n",
      " [[1 1 1 ... 1 1 1]]\n"
     ]
    }
   ],
   "source": [
    "# Getting trigrams \n",
    "vectorizer = CountVectorizer(ngram_range = (4,4))\n",
    "X1 = vectorizer.fit_transform(txt1) \n",
    "features = (vectorizer.get_feature_names())\n",
    "print(\"\\n\\nFeatures : \\n\", features)\n",
    "print(\"\\n\\nX1 : \\n\", X1.toarray())"
   ]
  },
  {
   "cell_type": "code",
   "execution_count": 18,
   "id": "3c1288c1",
   "metadata": {},
   "outputs": [
    {
     "name": "stdout",
     "output_type": "stream",
     "text": [
      "\n",
      "\n",
      "Scores : \n",
      " [[0.02158162 0.02158162 0.02158162 ... 0.02158162 0.02158162 0.02158162]]\n"
     ]
    }
   ],
   "source": [
    "# Applying TFIDF\n",
    "vectorizer = TfidfVectorizer(ngram_range = (4,4))\n",
    "X2 = vectorizer.fit_transform(txt1)\n",
    "scores = (X2.toarray())\n",
    "print(\"\\n\\nScores : \\n\", scores)"
   ]
  },
  {
   "cell_type": "code",
   "execution_count": 19,
   "id": "5df38d09",
   "metadata": {},
   "outputs": [
    {
     "name": "stdout",
     "output_type": "stream",
     "text": [
      "\n",
      "\n",
      "Words head : \n",
      "                                               term      rank\n",
      "529                 data scientists data engineers  0.043163\n",
      "2065                  worker ha kubernetes cluster  0.043163\n",
      "914                  html intellij java javascript  0.043163\n",
      "917                          https play google com  0.043163\n",
      "1180                   master worker ha kubernetes  0.043163\n",
      "654             driving innovation within practice  0.043163\n",
      "1922        translating business problems analytic  0.043163\n",
      "367         communicating controlling overall plan  0.043163\n",
      "359                         com store apps details  0.043163\n",
      "1395                         play google com store  0.043163\n",
      "444              controlling overall plan timeline  0.043163\n",
      "865                          google com store apps  0.043163\n",
      "1245                        multi master worker ha  0.043163\n",
      "336                    cloud native data analytics  0.043163\n",
      "1108                      level taught 40 students  0.043163\n",
      "1104                 less experienced team members  0.043163\n",
      "1756                         store apps details id  0.043163\n",
      "1827                     taught 40 students approx  0.043163\n",
      "278          business problems analytic frameworks  0.043163\n",
      "1329         organisation technologies css eclipse  0.021582\n",
      "1398                        policies set up domain  0.021582\n",
      "1320          opportunity communication sport band  0.021582\n",
      "1407                   post migration era vodafone  0.021582\n",
      "1406             post doctoral researchers various  0.021582\n",
      "1405              possessing keen enthusiasm agile  0.021582\n",
      "1404  possesses remarkable technical communication  0.021582\n",
      "1403       possess systems integration development  0.021582\n",
      "1402                         ports iscsi cards san  0.021582\n",
      "1401             popular industries traditional co  0.021582\n",
      "1400                       policy vault create iam  0.021582\n",
      "1321            optical methods sensor development  0.021582\n",
      "1399              policy documents newly generated  0.021582\n",
      "1397                  policies operating data 2006  0.021582\n",
      "1409         postgres converting latency vbscripts  0.021582\n",
      "1396                 plugins etc working knowledge  0.021582\n",
      "1394      platform powers compliance investigation  0.021582\n",
      "1322           optimal approach answering question  0.021582\n",
      "1393                platform based apache kubeflow  0.021582\n",
      "1392                  plant area disposing reports  0.021582\n",
      "1323                       optimisation 09 2019 ml  0.021582\n"
     ]
    }
   ],
   "source": [
    "# Getting top ranking features\n",
    "sums = X2.sum(axis = 0)\n",
    "data1 = []\n",
    "for col, term in enumerate(features):\n",
    "    data1.append( (term, sums[0,col] ))\n",
    "ranking = pd.DataFrame(data1, columns = ['term','rank'])\n",
    "words = (ranking.sort_values('rank', ascending = False))\n",
    "print (\"\\n\\nWords head : \\n\", words.head(40))"
   ]
  },
  {
   "cell_type": "code",
   "execution_count": null,
   "id": "ca38d762",
   "metadata": {},
   "outputs": [],
   "source": []
  },
  {
   "cell_type": "markdown",
   "id": "40d17b23",
   "metadata": {},
   "source": [
    "# Creating the graph"
   ]
  },
  {
   "cell_type": "code",
   "execution_count": 21,
   "id": "8afca0c7",
   "metadata": {},
   "outputs": [
    {
     "ename": "IndentationError",
     "evalue": "unexpected indent (<ipython-input-21-28f867760212>, line 12)",
     "output_type": "error",
     "traceback": [
      "\u001b[0;36m  File \u001b[0;32m\"<ipython-input-21-28f867760212>\"\u001b[0;36m, line \u001b[0;32m12\u001b[0m\n\u001b[0;31m    'doctorat': {['Ph.D','PHD'],\u001b[0m\n\u001b[0m    ^\u001b[0m\n\u001b[0;31mIndentationError\u001b[0m\u001b[0;31m:\u001b[0m unexpected indent\n"
     ]
    }
   ],
   "source": [
    "skills = {'knowledge': {'statistic': ['probas', 'stat_discreptive'],                          \n",
    "                          'machine_learning': ['soft_max', 'regression_logistic'],\n",
    "                          'ro': ['coloration', 'column_generation'],\n",
    "                       },\n",
    "              \n",
    "          'tools': {'programming_language': ['r', 'python','c'],                           \n",
    "                          'econometry': ['sas', 'eviews'],\n",
    "                       },\n",
    "         }\n",
    "education = {'master': ['M1', 'M2', 'Master','Maitrise']\n",
    "                       },\n",
    "            'doctorat': {['Ph.D','PHD'],\n",
    "                          }\n"
   ]
  },
  {
   "cell_type": "code",
   "execution_count": null,
   "id": "562df7c8",
   "metadata": {},
   "outputs": [],
   "source": [
    "for key,value in skills['knowledge'].items():\n",
    "    nod = key\n",
    "    #print (key)\n",
    "    #print (value)\n",
    "    print (nod)"
   ]
  },
  {
   "cell_type": "code",
   "execution_count": null,
   "id": "2d8bccb6",
   "metadata": {},
   "outputs": [],
   "source": [
    "skills['knowledge']"
   ]
  },
  {
   "cell_type": "code",
   "execution_count": null,
   "id": "e8215fbb",
   "metadata": {},
   "outputs": [],
   "source": [
    "#We creat the graph of skills\n",
    "graph = nx.Graph()\n",
    "\n",
    "#knowltool could be knowledge or tools\n",
    "def skills2graph(knowltool, graph):\n",
    "    domain = skills[knowltool]\n",
    "    domaine_name = deque(domain)#should be removed!!!!!!!!!!!!!!\n",
    "    \n",
    "    for key,value in skills[knowltool].items():\n",
    "        nod = key\n",
    "        graph.add_node(nod)\n",
    "    for i in range(len(value)):\n",
    "        graph.add_edge(value[i], nod)\n",
    "    return graph"
   ]
  },
  {
   "cell_type": "code",
   "execution_count": null,
   "id": "6965c8f2",
   "metadata": {},
   "outputs": [],
   "source": [
    "def edu2graph(edu_name, graph):\n",
    "    educ = skills[edu_name]\n",
    "    \n",
    "    for key,value in skills[edu_name].items():\n",
    "        nod = key\n",
    "        graph.add_node(nod)\n",
    "    for i in len(value):\n",
    "        graph.add_edge(value[i], node)\n",
    "    return graph\n"
   ]
  },
  {
   "cell_type": "code",
   "execution_count": null,
   "id": "7ac979d7",
   "metadata": {},
   "outputs": [],
   "source": [
    "L=skills2graph('knowledge', graph)"
   ]
  },
  {
   "cell_type": "code",
   "execution_count": null,
   "id": "22c64f69",
   "metadata": {},
   "outputs": [],
   "source": []
  },
  {
   "cell_type": "code",
   "execution_count": null,
   "id": "536b0a9c",
   "metadata": {},
   "outputs": [],
   "source": [
    "graph = nx.Graph()\n",
    "\n",
    "\n",
    "domain = skills['knowledge']\n",
    "domaine_name = deque(domain)\n",
    "graph.add_node(\"knowledge\")    \n",
    "graph.add_node('tools')\n",
    "graph.add_node('skills')\n",
    "graph.add_edge('skills','knowledge')\n",
    "graph.add_edge('skills','tools')\n",
    "\n",
    "\n",
    "for key,value in skills['knowledge'].items():\n",
    "    nod = key\n",
    "    print(nod)\n",
    "    graph.add_node(nod)\n",
    "    graph.add_edge(\"knowledge\",nod)\n",
    "    for i in range(len(value)):\n",
    "        graph.add_edge(value[i], nod)"
   ]
  },
  {
   "cell_type": "code",
   "execution_count": null,
   "id": "5e054f6e",
   "metadata": {},
   "outputs": [],
   "source": [
    "for key,value in skills['tools'].items():\n",
    "    nod = key\n",
    "    print(nod)\n",
    "    graph.add_node(nod)\n",
    "    graph.add_edge(\"tools\",nod)\n",
    "    for i in range(len(value)):\n",
    "        graph.add_edge(value[i], nod)\n",
    "\n"
   ]
  },
  {
   "cell_type": "code",
   "execution_count": null,
   "id": "13a309c8",
   "metadata": {},
   "outputs": [],
   "source": [
    "#nx.draw(graph, with_labels=True, font_weight='bold') \n",
    "plt.figure(figsize=(12,12))\n",
    "\n",
    "\n",
    "pos = nx.circular_layout(graph)\n",
    "nx.draw(graph, with_labels=True, node_color='skyblue', edge_cmap=plt.cm.Blues, pos = pos, node_size = 4500, font_size=18)\n",
    "plt.show()\n",
    "\n"
   ]
  },
  {
   "cell_type": "code",
   "execution_count": null,
   "id": "561b8c83",
   "metadata": {},
   "outputs": [],
   "source": [
    "from node2vec import Node2Vec\n",
    "\n"
   ]
  },
  {
   "cell_type": "code",
   "execution_count": null,
   "id": "84868b2c",
   "metadata": {},
   "outputs": [],
   "source": [
    "node2vec = Node2Vec(graph, dimensions=64, walk_length=30, num_walks=200, workers=4)\n",
    "\n",
    "\n"
   ]
  },
  {
   "cell_type": "code",
   "execution_count": null,
   "id": "02abebc1",
   "metadata": {},
   "outputs": [],
   "source": [
    "model = node2vec.fit(window=10, min_count=1, batch_words=4)\n",
    "\n",
    "\n"
   ]
  },
  {
   "cell_type": "code",
   "execution_count": null,
   "id": "f37a0901",
   "metadata": {},
   "outputs": [],
   "source": [
    "model.wv.get_vector('coloration')\n",
    "\n",
    "\n"
   ]
  },
  {
   "cell_type": "code",
   "execution_count": null,
   "id": "439f288e",
   "metadata": {},
   "outputs": [],
   "source": [
    "model.wv.most_similar('coloration')\n",
    "\n"
   ]
  },
  {
   "cell_type": "code",
   "execution_count": null,
   "id": "ac704594",
   "metadata": {},
   "outputs": [],
   "source": []
  },
  {
   "cell_type": "code",
   "execution_count": null,
   "id": "c6ba4f85",
   "metadata": {},
   "outputs": [],
   "source": []
  },
  {
   "cell_type": "code",
   "execution_count": null,
   "id": "17686631",
   "metadata": {},
   "outputs": [],
   "source": []
  },
  {
   "cell_type": "code",
   "execution_count": null,
   "id": "b93eae5d",
   "metadata": {},
   "outputs": [],
   "source": []
  },
  {
   "cell_type": "code",
   "execution_count": null,
   "id": "506956a2",
   "metadata": {},
   "outputs": [],
   "source": []
  },
  {
   "cell_type": "code",
   "execution_count": null,
   "id": "0b47e111",
   "metadata": {},
   "outputs": [],
   "source": []
  },
  {
   "cell_type": "code",
   "execution_count": null,
   "id": "53d4b375",
   "metadata": {},
   "outputs": [],
   "source": []
  },
  {
   "cell_type": "code",
   "execution_count": null,
   "id": "663035b4",
   "metadata": {},
   "outputs": [],
   "source": []
  },
  {
   "cell_type": "code",
   "execution_count": null,
   "id": "702f5734",
   "metadata": {},
   "outputs": [],
   "source": []
  },
  {
   "cell_type": "code",
   "execution_count": null,
   "id": "8fbe2caa",
   "metadata": {},
   "outputs": [],
   "source": []
  },
  {
   "cell_type": "code",
   "execution_count": null,
   "id": "edd396f3",
   "metadata": {},
   "outputs": [],
   "source": []
  },
  {
   "cell_type": "code",
   "execution_count": null,
   "id": "4c48cc2c",
   "metadata": {},
   "outputs": [],
   "source": []
  },
  {
   "cell_type": "code",
   "execution_count": null,
   "id": "d9dc8754",
   "metadata": {},
   "outputs": [],
   "source": []
  },
  {
   "cell_type": "code",
   "execution_count": null,
   "id": "cbf615c3",
   "metadata": {},
   "outputs": [],
   "source": []
  }
 ],
 "metadata": {
  "kernelspec": {
   "display_name": "Python 3",
   "language": "python",
   "name": "python3"
  },
  "language_info": {
   "codemirror_mode": {
    "name": "ipython",
    "version": 3
   },
   "file_extension": ".py",
   "mimetype": "text/x-python",
   "name": "python",
   "nbconvert_exporter": "python",
   "pygments_lexer": "ipython3",
   "version": "3.9.5"
  }
 },
 "nbformat": 4,
 "nbformat_minor": 5
}
